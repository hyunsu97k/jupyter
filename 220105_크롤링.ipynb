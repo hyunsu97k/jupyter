{
 "cells": [
  {
   "cell_type": "code",
   "execution_count": 21,
   "id": "f92ea165-d1ab-4ddc-a73d-374abf26f2f1",
   "metadata": {},
   "outputs": [
    {
     "name": "stderr",
     "output_type": "stream",
     "text": [
      "C:\\Users\\BIT\\AppData\\Local\\Temp/ipykernel_116/1724428452.py:4: DeprecationWarning: executable_path has been deprecated, please pass in a Service object\n",
      "  driver = webdriver.Chrome('driver/chromedriver')\n",
      "C:\\Users\\BIT\\AppData\\Local\\Temp/ipykernel_116/1724428452.py:11: DeprecationWarning: find_element_by_* commands are deprecated. Please use find_element() instead\n",
      "  driver.find_element_by_xpath(link).click()\n",
      "C:\\Users\\BIT\\AppData\\Local\\Temp/ipykernel_116/1724428452.py:13: DeprecationWarning: find_element_by_* commands are deprecated. Please use find_element() instead\n",
      "  elem_login = driver.find_element_by_id('id')\n",
      "C:\\Users\\BIT\\AppData\\Local\\Temp/ipykernel_116/1724428452.py:17: DeprecationWarning: find_element_by_* commands are deprecated. Please use find_element() instead\n",
      "  elem_login = driver.find_element_by_id('pw')\n"
     ]
    }
   ],
   "source": [
    "from selenium import webdriver\n",
    "from selenium.webdriver.common.keys import Keys\n",
    "\n",
    "driver = webdriver.Chrome('driver/chromedriver')\n",
    "\n",
    "\n",
    "driver.get('https://www.naver.com')\n",
    "\n",
    "link = '//*[@id=\"account\"]/a'\n",
    "\n",
    "driver.find_element_by_xpath(link).click()\n",
    "\n",
    "elem_login = driver.find_element_by_id('id')\n",
    "elem_login.clear()\n",
    "elem_login.send_keys('아이디')\n",
    "\n",
    "elem_login = driver.find_element_by_id('pw')\n",
    "elem_login.clear()\n",
    "elem_login.send_keys('비밀번호')\n",
    "\n",
    "elem_login.send_keys(Keys.RETURN)\n",
    "\n",
    "#driver.get('https://nid.naver.com/nidlogin.login').send_keys(keys.RETURN)\n",
    "\n",
    "\n",
    "\n",
    "\n",
    "\n",
    "\n"
   ]
  }
 ],
 "metadata": {
  "kernelspec": {
   "display_name": "Python 3 (ipykernel)",
   "language": "python",
   "name": "python3"
  },
  "language_info": {
   "codemirror_mode": {
    "name": "ipython",
    "version": 3
   },
   "file_extension": ".py",
   "mimetype": "text/x-python",
   "name": "python",
   "nbconvert_exporter": "python",
   "pygments_lexer": "ipython3",
   "version": "3.9.7"
  }
 },
 "nbformat": 4,
 "nbformat_minor": 5
}
