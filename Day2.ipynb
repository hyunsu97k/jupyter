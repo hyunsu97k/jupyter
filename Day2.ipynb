{
 "cells": [
  {
   "cell_type": "markdown",
   "id": "a527622b-d84d-45b6-a9fc-fe0e76fac3c1",
   "metadata": {},
   "source": [
    "# DAY 02"
   ]
  },
  {
   "cell_type": "markdown",
   "id": "de32683b-dd79-42a6-9b3f-7f6eb464be90",
   "metadata": {},
   "source": [
    "## 변수연습\n",
    "### 1. print , type"
   ]
  },
  {
   "cell_type": "code",
   "execution_count": 3,
   "id": "fd267170-a144-4538-a324-4fcff862d5f4",
   "metadata": {},
   "outputs": [
    {
     "name": "stdout",
     "output_type": "stream",
     "text": [
      "57\n",
      "<class 'str'>\n"
     ]
    }
   ],
   "source": [
    "a = '5'\n",
    "b = '7'\n",
    "\n",
    "print(a + b)\n",
    "print(type(a + b))"
   ]
  },
  {
   "cell_type": "markdown",
   "id": "73b4bf5d-26e0-49ef-a04f-2318e7648339",
   "metadata": {},
   "source": [
    "### 2. intput / int / float / boolean"
   ]
  },
  {
   "cell_type": "code",
   "execution_count": 24,
   "id": "2dd190e2-2512-4326-9458-3f9154d8564c",
   "metadata": {},
   "outputs": [
    {
     "name": "stdin",
     "output_type": "stream",
     "text": [
      " 10\n",
      " 100\n"
     ]
    },
    {
     "name": "stdout",
     "output_type": "stream",
     "text": [
      "10 100\n",
      "<class 'str'>\n",
      "<class 'int'>\n",
      "<class 'int'>\n",
      "110\n"
     ]
    }
   ],
   "source": [
    "a = input('')\n",
    "b = input('')\n",
    "\n",
    "print(a,b)\n",
    "print(type(a))\n",
    "\n",
    "x = int(a)\n",
    "y = int(b)\n",
    "\n",
    "print(type(x))\n",
    "print(type(y))\n",
    "\n",
    "print(x + y)"
   ]
  },
  {
   "cell_type": "code",
   "execution_count": 50,
   "id": "b42b3841-55aa-4fca-947a-3c3e0f373f0f",
   "metadata": {},
   "outputs": [
    {
     "name": "stdin",
     "output_type": "stream",
     "text": [
      "국어점수 57\n",
      "수학점수 68\n",
      "영어점수 95\n"
     ]
    },
    {
     "name": "stdout",
     "output_type": "stream",
     "text": [
      "220\n",
      "220\n",
      "<class 'int'>\n",
      "내 점수의 총점은 220 평균은 73.33 입니다.\n"
     ]
    }
   ],
   "source": [
    "a = input('국어점수')\n",
    "b = input('수학점수')\n",
    "c = input('영어점수')\n",
    "\n",
    "x = int(a)\n",
    "y = int(b)\n",
    "z = int(c)\n",
    "\n",
    "o = x + y + z\n",
    "u = o / 3\n",
    "\n",
    "print(x + y + z)\n",
    "print(o)\n",
    "print(type(o))\n",
    "\n",
    "print('내 점수의 총점은 %d 평균은 %.2f 입니다.' % (o, u))"
   ]
  },
  {
   "cell_type": "code",
   "execution_count": 37,
   "id": "5f6cd683-f60e-4566-90e8-2d1eb459a244",
   "metadata": {},
   "outputs": [
    {
     "name": "stdin",
     "output_type": "stream",
     "text": [
      "이름을 입력하시오 강현수\n"
     ]
    },
    {
     "name": "stdout",
     "output_type": "stream",
     "text": [
      "내이름은강현수입니다\n"
     ]
    }
   ],
   "source": [
    "name = input('이름을 입력하시오')\n",
    "\n",
    "print('내이름은' + name + '입니다')\n"
   ]
  },
  {
   "cell_type": "code",
   "execution_count": 82,
   "id": "2d6ba3d0-1361-46b4-a39a-024140935b68",
   "metadata": {},
   "outputs": [
    {
     "name": "stdin",
     "output_type": "stream",
     "text": [
      "이름 강현수\n",
      "국어 87\n",
      "수학 67\n",
      "영어 76\n"
     ]
    },
    {
     "name": "stdout",
     "output_type": "stream",
     "text": [
      " 이름\t 국어\t 수학\t 영어\t 총점\t 평균\n",
      "______________________________________________\n",
      "강현수\t 87\t 67\t 76\t 230\t 79.67\n"
     ]
    }
   ],
   "source": [
    "name = input('이름')\n",
    "a = int(input('국어'))\n",
    "b = int(input('수학'))\n",
    "c = int(input('영어'))\n",
    "\n",
    "total = a + b + c\n",
    "avg = x / 3\n",
    "\n",
    "print(' 이름\\t 국어\\t 수학\\t 영어\\t 총점\\t 평균')\n",
    "print('_' * 46)\n",
    "print( '%s\\t %d\\t %d\\t %d\\t %d\\t %.2f' %(name, a, b, c, total, avg))\n"
   ]
  },
  {
   "cell_type": "code",
   "execution_count": 94,
   "id": "354fce2f-e96b-44ad-b3f4-780dde281e09",
   "metadata": {},
   "outputs": [
    {
     "name": "stdout",
     "output_type": "stream",
     "text": [
      "False\n",
      "<class 'bool'>\n",
      "6\n",
      "<class 'int'>\n",
      "8.857142857142858\n",
      "8\n",
      "49\n"
     ]
    }
   ],
   "source": [
    "data = 7\n",
    "score = 62\n",
    "\n",
    "a = data > score\n",
    "b = score % data  # 나눈값의 나머지\n",
    "c = score / data  # /은 나눈값 실수\n",
    "d = score // data # //은 나눈값정수\n",
    "e = data ** 2     # ** 은 제곱수\n",
    "\n",
    "print(a)\n",
    "print(type(a))\n",
    "print(b)\n",
    "print(type(b))\n",
    "print(c)\n",
    "print(d)\n",
    "print(e)"
   ]
  },
  {
   "cell_type": "code",
   "execution_count": 98,
   "id": "650b25a0-7b95-4702-b5d8-de002d1b0be2",
   "metadata": {},
   "outputs": [
    {
     "name": "stdout",
     "output_type": "stream",
     "text": [
      "False\n",
      "True\n"
     ]
    }
   ],
   "source": [
    "score = 110\n",
    "\n",
    "print( score >= 0 and score <= 100 )   # and는 양쪽 둘다 참인경우\n",
    "print( score >= 0 or score <= 100)     # or은 한쪽이라도 참인경우"
   ]
  },
  {
   "cell_type": "code",
   "execution_count": 99,
   "id": "076829ac-beb8-4f28-b572-35765c356b6f",
   "metadata": {},
   "outputs": [
    {
     "name": "stdin",
     "output_type": "stream",
     "text": [
      "  50\n",
      "  100\n"
     ]
    },
    {
     "name": "stdout",
     "output_type": "stream",
     "text": [
      "False\n",
      "True\n",
      "False\n",
      "True\n",
      "False\n",
      "True\n"
     ]
    }
   ],
   "source": [
    "data = int(input(' '))\n",
    "score = int(input(' '))\n",
    "\n",
    "print( data > score)\n",
    "print( data < score)\n",
    "print( data >= score)\n",
    "print( data <= score)\n",
    "print( data == score) # 같으면 True\n",
    "print( data != score) # 다르면 True"
   ]
  },
  {
   "cell_type": "code",
   "execution_count": 108,
   "id": "70670dcd-5642-433a-b7d9-ebbd98a83820",
   "metadata": {},
   "outputs": [
    {
     "name": "stdout",
     "output_type": "stream",
     "text": [
      "False\n"
     ]
    }
   ],
   "source": [
    "a = 0\n",
    "b = bool(a)\n",
    "\n",
    "print(b)"
   ]
  },
  {
   "cell_type": "markdown",
   "id": "681da257-b788-4434-a9d7-0a9723e2aac9",
   "metadata": {},
   "source": [
    "### 3. if / else"
   ]
  },
  {
   "cell_type": "code",
   "execution_count": 124,
   "id": "1bfa2fc7-2a97-4b8a-9608-acf46e77cfb1",
   "metadata": {},
   "outputs": [
    {
     "name": "stdin",
     "output_type": "stream",
     "text": [
      "나이를 입력하시오. 19\n"
     ]
    },
    {
     "name": "stdout",
     "output_type": "stream",
     "text": [
      "성인이 아닙니다.\n",
      "당신은 19살 입니다.\n"
     ]
    }
   ],
   "source": [
    "age =int(input('나이를 입력하시오.'))\n",
    "\n",
    "if( age >= 20 ) :\n",
    "    print(\"성인입니다.\")\n",
    "    print(\"당신은 %d살 입니다.\" % age)\n",
    "    \n",
    "if( age < 20 ) :\n",
    "    print( \"성인이 아닙니다.\")\n",
    "    print( \"당신은 %d살 입니다.\" % age)\n",
    "    "
   ]
  },
  {
   "cell_type": "code",
   "execution_count": 131,
   "id": "0bbbbf6c-5954-427c-bf4c-e368be768dd0",
   "metadata": {},
   "outputs": [
    {
     "name": "stdin",
     "output_type": "stream",
     "text": [
      "나이를 입력하시오. 40\n"
     ]
    },
    {
     "name": "stdout",
     "output_type": "stream",
     "text": [
      "40세 이상입니다.\n"
     ]
    }
   ],
   "source": [
    "age =int(input('나이를 입력하시오.'))\n",
    "\n",
    "if age >= 60  :\n",
    "    print(\"60세 이상입니다.\")\n",
    "    \n",
    "elif age >= 40 :\n",
    "    print(\"40세 이상입니다.\")\n",
    "    \n",
    "elif age >= 20 : \n",
    "    print(\"20세 이상입니다.\\n성인입니다.\")\n",
    "    \n",
    "else :\n",
    "    print(\"성인이 아닙니다.\")"
   ]
  },
  {
   "cell_type": "code",
   "execution_count": 132,
   "id": "746d4cec-2067-4e03-9b80-97121cecee6f",
   "metadata": {},
   "outputs": [
    {
     "name": "stdin",
     "output_type": "stream",
     "text": [
      "점수를 입력하세요. 87\n"
     ]
    },
    {
     "name": "stdout",
     "output_type": "stream",
     "text": [
      "B등급 입니다.\n"
     ]
    }
   ],
   "source": [
    "score = int(input(\"점수를 입력하세요.\"))\n",
    "\n",
    "if score >= 90 :\n",
    "    print( \"A등급 입니다.\")\n",
    "    \n",
    "elif score >= 80 :\n",
    "    print( \"B등급 입니다.\")\n",
    "    \n",
    "elif score >= 70 :\n",
    "    print( \"C등급 입니다.\")\n",
    "    \n",
    "elif score >= 60 :\n",
    "    print( \"D등급 입니다.\")\n",
    "    \n",
    "else :\n",
    "    print(\"F등급 입니다.\")\n",
    "    "
   ]
  },
  {
   "cell_type": "code",
   "execution_count": 137,
   "id": "451efb0a-8ce4-487b-a9fd-8fe8696c9b35",
   "metadata": {},
   "outputs": [
    {
     "name": "stdin",
     "output_type": "stream",
     "text": [
      "  4\n"
     ]
    },
    {
     "name": "stdout",
     "output_type": "stream",
     "text": [
      "짝수\n"
     ]
    }
   ],
   "source": [
    "num = int(input(\" \"))\n",
    "\n",
    "if num % 2 == 0 :\n",
    "    print( \"짝수\" )\n",
    "    \n",
    "else :\n",
    "    print( \"홀수\" )\n",
    "          "
   ]
  },
  {
   "cell_type": "code",
   "execution_count": 148,
   "id": "1bd7fdfb-250b-4cc3-a80c-6fbf47b4e2a3",
   "metadata": {},
   "outputs": [
    {
     "name": "stdin",
     "output_type": "stream",
     "text": [
      "  1\n"
     ]
    },
    {
     "name": "stdout",
     "output_type": "stream",
     "text": [
      "홀수\n"
     ]
    }
   ],
   "source": [
    "num = int(input(\" \"))\n",
    "x = num % 2 == 0\n",
    "\n",
    "if x == True :\n",
    "    print( \"짝수\" )\n",
    "    \n",
    "else :\n",
    "    print( \"홀수\" )"
   ]
  },
  {
   "cell_type": "code",
   "execution_count": 189,
   "id": "6c6ce85d-4373-48af-9e7c-882c40fb871d",
   "metadata": {},
   "outputs": [
    {
     "name": "stdin",
     "output_type": "stream",
     "text": [
      "  10.5\n"
     ]
    },
    {
     "name": "stdout",
     "output_type": "stream",
     "text": [
      "홀수\n"
     ]
    }
   ],
   "source": [
    "num = float(input(\" \"))\n",
    "\n",
    "if num > 0 :\n",
    "    if num % 2 == 0 :\n",
    "        print( '짝수' )\n",
    "    else :\n",
    "        print( '홀수' )\n",
    "else :\n",
    "    print( '음수' )"
   ]
  },
  {
   "cell_type": "markdown",
   "id": "f36a6ef0-9c39-40fb-9347-9dfa37fdac81",
   "metadata": {},
   "source": [
    "### 4. 반복문 While / for"
   ]
  },
  {
   "cell_type": "code",
   "execution_count": 158,
   "id": "ef19581b-7dd9-4eef-843d-d5fe2d0ad61f",
   "metadata": {},
   "outputs": [
    {
     "name": "stdout",
     "output_type": "stream",
     "text": [
      "1\n",
      "2\n",
      "3\n",
      "4\n",
      "5\n",
      "6\n",
      "7\n",
      "8\n",
      "9\n",
      "10\n"
     ]
    }
   ],
   "source": [
    "a = 1\n",
    "\n",
    "while a <= 10 :\n",
    "    print(a)\n",
    "    a = a + 1"
   ]
  },
  {
   "cell_type": "code",
   "execution_count": 160,
   "id": "47cb8c2a-0340-4e89-ae4f-fc6f75d6138c",
   "metadata": {},
   "outputs": [
    {
     "name": "stdout",
     "output_type": "stream",
     "text": [
      "hellow1\n",
      "hellow2\n",
      "hellow3\n",
      "hellow4\n"
     ]
    }
   ],
   "source": [
    "i = 1\n",
    "\n",
    "while i <= 4 :\n",
    "    print( \"hellow\" + str(i))\n",
    "    i = i + 1"
   ]
  },
  {
   "cell_type": "code",
   "execution_count": 166,
   "id": "3e27d719-9d0b-4147-aea4-203cc54c32c1",
   "metadata": {},
   "outputs": [
    {
     "name": "stdout",
     "output_type": "stream",
     "text": [
      "5\n",
      "10\n",
      "15\n",
      "20\n",
      "25\n",
      "30\n",
      "35\n",
      "40\n",
      "45\n",
      "50\n",
      "55\n",
      "60\n",
      "65\n",
      "70\n",
      "75\n",
      "80\n",
      "85\n",
      "90\n",
      "95\n",
      "100\n"
     ]
    }
   ],
   "source": [
    "a = 1\n",
    "\n",
    "while a <= 100 :\n",
    "    if a % 5 == 0 :\n",
    "        print( '%d' % a)\n",
    "    a = a + 1"
   ]
  },
  {
   "cell_type": "code",
   "execution_count": 169,
   "id": "f0158c7e-f3d0-46c3-a10a-558e6968cf67",
   "metadata": {},
   "outputs": [
    {
     "name": "stdout",
     "output_type": "stream",
     "text": [
      "range(0, 5)\n"
     ]
    }
   ],
   "source": [
    "print(range(5))"
   ]
  },
  {
   "cell_type": "code",
   "execution_count": 170,
   "id": "63ed1838-ec1e-4b56-8331-8df79fc6a009",
   "metadata": {},
   "outputs": [
    {
     "name": "stdout",
     "output_type": "stream",
     "text": [
      "range(0, 10)\n"
     ]
    }
   ],
   "source": [
    "print(range(10))"
   ]
  },
  {
   "cell_type": "code",
   "execution_count": 187,
   "id": "a28df20f-51bd-4f98-bd43-153193545d7b",
   "metadata": {},
   "outputs": [
    {
     "name": "stdout",
     "output_type": "stream",
     "text": [
      "1\n",
      "2\n",
      "3\n",
      "4\n",
      "5\n",
      "6\n",
      "7\n",
      "8\n",
      "9\n",
      "10\n"
     ]
    }
   ],
   "source": [
    "for a in range(10) :\n",
    "    print( a+1 )"
   ]
  },
  {
   "cell_type": "code",
   "execution_count": 213,
   "id": "21e26532-22ae-4dfc-bb03-2ca04c2823d0",
   "metadata": {},
   "outputs": [
    {
     "name": "stdout",
     "output_type": "stream",
     "text": [
      "['apple', 'banana', 'orange', 'grape', 'tomato']\n",
      "banana\n",
      "<class 'str'>\n",
      "나는 ['banana', 'orange']를 좋아합니다.\n",
      "나는 ['banana', 'orange']를 좋아합니다.\n",
      "나는 ['banana', 'orange']를 좋아합니다.\n",
      "나는 ['banana', 'orange']를 좋아합니다.\n",
      "나는 ['banana', 'orange']를 좋아합니다.\n"
     ]
    }
   ],
   "source": [
    "fruits = [ 'apple', 'banana', 'orange', 'grape', 'tomato' ]\n",
    "print( fruits )\n",
    "\n",
    "len( fruits )\n",
    "\n",
    "print( fruits[1])\n",
    "\n",
    "print(type(fruits[1]))\n",
    "\n",
    "for x in fruits :\n",
    "    print(\"나는 %s를 좋아합니다.\" % fruits[1:3])"
   ]
  },
  {
   "cell_type": "code",
   "execution_count": 221,
   "id": "fb89e8e3-f091-43a8-95ee-28c301793a14",
   "metadata": {},
   "outputs": [
    {
     "name": "stdout",
     "output_type": "stream",
     "text": [
      "나는 banana를 좋아합니다.\n",
      "나는 orange를 좋아합니다.\n"
     ]
    }
   ],
   "source": [
    "fruits = [ 'apple', 'banana', 'orange', 'grape', 'tomato' ]\n",
    "\n",
    "for x in fruits[1:3] :\n",
    "    print(\"나는 \"+ x + \"를 좋아합니다.\")"
   ]
  },
  {
   "cell_type": "code",
   "execution_count": 225,
   "id": "5cfdf63e-23e2-43d4-b17c-d0aa8c30623c",
   "metadata": {},
   "outputs": [
    {
     "name": "stdin",
     "output_type": "stream",
     "text": [
      "좋아하는 과일을 입력하시오. melon\n"
     ]
    },
    {
     "name": "stdout",
     "output_type": "stream",
     "text": [
      "['cherry', 'banana', 'orange', 'grape', 'melon']\n"
     ]
    }
   ],
   "source": [
    "fruits = [ 'apple', 'banana', 'orange', 'grape', 'tomato' ]\n",
    "\n",
    "fruits[0] = 'cherry'\n",
    "\n",
    "fruits[4] = input( \"좋아하는 과일을 입력하시오.\" )\n",
    "print(fruits)\n",
    "\n"
   ]
  },
  {
   "cell_type": "code",
   "execution_count": 233,
   "id": "8d77eab8-3ba6-491b-9df8-76eed2d89f16",
   "metadata": {},
   "outputs": [
    {
     "name": "stdout",
     "output_type": "stream",
     "text": [
      "[1, 2, 3, 4, 5, 6, 7, 8, 9, 10]\n",
      "<class 'list'>\n",
      "6\n",
      "<class 'int'>\n",
      "1\n",
      "2\n",
      "3\n",
      "4\n",
      "5\n",
      "6\n",
      "7\n",
      "8\n",
      "9\n",
      "10\n"
     ]
    }
   ],
   "source": [
    "num = [ 1, 2, 3, 4, 5, 6, 7, 8, 9, 10 ]\n",
    "\n",
    "print(num)\n",
    "print(type(num))\n",
    "print( num[5] )\n",
    "print( type( num[5] ))\n",
    "len( num )\n",
    "\n",
    "for a in num :\n",
    "    print( a )"
   ]
  },
  {
   "cell_type": "code",
   "execution_count": 7,
   "id": "496cf3b3-8ef3-4a13-89ed-45211767abad",
   "metadata": {},
   "outputs": [
    {
     "name": "stdout",
     "output_type": "stream",
     "text": [
      "55\n"
     ]
    }
   ],
   "source": [
    "num = [ 1, 2, 3, 4, 5, 6, 7, 8, 9, 10 ]\n",
    "total = 0\n",
    "#tot = 0\n",
    "\n",
    "for n in num :\n",
    "    total = total + n\n",
    "print(total)"
   ]
  },
  {
   "cell_type": "code",
   "execution_count": 18,
   "id": "14ef18a8-4b9a-4c56-92df-1ba851f983ab",
   "metadata": {},
   "outputs": [
    {
     "name": "stdout",
     "output_type": "stream",
     "text": [
      "30\n",
      "5\n"
     ]
    }
   ],
   "source": [
    "num = [ 1, 2, 3, 4, 5, 6, 7, 8, 9, 10 ]\n",
    "total = 0\n",
    "count = 0\n",
    "for n in num :\n",
    "    if n % 2 == 0 :\n",
    "        total = total + n\n",
    "        count = count + 1    # if문에 해당하는 변수값의 갯수 셀때 쓰는방식\n",
    "        \n",
    "print(total)\n",
    "print(count)"
   ]
  },
  {
   "cell_type": "code",
   "execution_count": 30,
   "id": "a68c390c-ae42-4551-9807-c3fc3f9fc17a",
   "metadata": {},
   "outputs": [
    {
     "name": "stdout",
     "output_type": "stream",
     "text": [
      "[1, 2, 1, 2, 3]\n",
      "[1, 2, 1, 2]\n"
     ]
    },
    {
     "data": {
      "text/plain": [
       "2"
      ]
     },
     "execution_count": 30,
     "metadata": {},
     "output_type": "execute_result"
    }
   ],
   "source": [
    "a = [1, 2, 3, 1, 2, 3]\n",
    "\n",
    "a.remove(3)\n",
    "\n",
    "print(a)\n",
    "\n",
    "a.remove(3)\n",
    "\n",
    "print(a)\n",
    "\n",
    "a.count(1)"
   ]
  },
  {
   "cell_type": "code",
   "execution_count": null,
   "id": "23190188-6df7-4bf5-aa48-0e234addd09d",
   "metadata": {},
   "outputs": [],
   "source": []
  },
  {
   "cell_type": "code",
   "execution_count": 41,
   "id": "3764f209-1220-49a9-a654-a7de0c1f0fef",
   "metadata": {},
   "outputs": [
    {
     "name": "stdin",
     "output_type": "stream",
     "text": [
      "  -0.5\n"
     ]
    },
    {
     "name": "stdout",
     "output_type": "stream",
     "text": [
      "음수\n"
     ]
    }
   ],
   "source": [
    "num = float(input(' '))\n",
    "\n",
    "if num > 0 :\n",
    "    if num % 2 == 0 :\n",
    "        print('짝수')\n",
    "    elif num % 2 ==1 :\n",
    "        print('홀수')\n",
    "    else :\n",
    "        print('정수가 아님')\n",
    "\n",
    "elif num == 0 :\n",
    "    print(0)\n",
    "\n",
    "else :\n",
    "    print('음수')\n",
    "\n"
   ]
  },
  {
   "cell_type": "code",
   "execution_count": 42,
   "id": "497ed174-609c-42a7-92f1-5dce6eaa5964",
   "metadata": {},
   "outputs": [
    {
     "name": "stdout",
     "output_type": "stream",
     "text": [
      "shirt\n"
     ]
    }
   ],
   "source": [
    "a = \"Life is too short, you need python\"\n",
    "\n",
    "if \"wife\" in a :\n",
    "    print(\"Wife\")\n",
    "    \n",
    "elif \"python\" in a and \"you\" not in a :\n",
    "    print(\"python\")\n",
    "\n",
    "elif \"shirt\" not in a :\n",
    "    print(\"shirt\")\n",
    "    \n",
    "elif \"need\" in a :\n",
    "    print(\"need\")\n",
    "\n",
    "else :\n",
    "    print(\"none\")"
   ]
  },
  {
   "cell_type": "markdown",
   "id": "9b41d5ee-97fa-48cc-9ef4-7536d7b28328",
   "metadata": {},
   "source": [
    "## Q1"
   ]
  },
  {
   "cell_type": "code",
   "execution_count": 1,
   "id": "d721975f-8f37-4127-8014-1dea55e5c1e2",
   "metadata": {},
   "outputs": [
    {
     "name": "stdout",
     "output_type": "stream",
     "text": [
      "166833\n"
     ]
    }
   ],
   "source": [
    "a = 1\n",
    "total = 0\n",
    "\n",
    "while a <= 1000 :\n",
    "    if a % 3 == 0 :\n",
    "        total = total + a\n",
    "    a = a + 1\n",
    "\n",
    "print(total)\n",
    "\n"
   ]
  },
  {
   "cell_type": "code",
   "execution_count": null,
   "id": "7fd6adf5-ea4d-4917-bcee-c3ebbcce63fc",
   "metadata": {},
   "outputs": [],
   "source": []
  },
  {
   "cell_type": "code",
   "execution_count": null,
   "id": "b117db45-2c3f-41ff-ac56-c4dcae0ec911",
   "metadata": {},
   "outputs": [],
   "source": []
  },
  {
   "cell_type": "code",
   "execution_count": null,
   "id": "d3754e69-c026-4404-9c0d-eb3e83969604",
   "metadata": {},
   "outputs": [],
   "source": []
  }
 ],
 "metadata": {
  "kernelspec": {
   "display_name": "Python 3 (ipykernel)",
   "language": "python",
   "name": "python3"
  },
  "language_info": {
   "codemirror_mode": {
    "name": "ipython",
    "version": 3
   },
   "file_extension": ".py",
   "mimetype": "text/x-python",
   "name": "python",
   "nbconvert_exporter": "python",
   "pygments_lexer": "ipython3",
   "version": "3.9.7"
  }
 },
 "nbformat": 4,
 "nbformat_minor": 5
}
