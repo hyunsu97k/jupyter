{
 "cells": [
  {
   "cell_type": "code",
   "execution_count": 25,
   "id": "4ad51ade-7835-459a-b03b-6e63b96d2cd3",
   "metadata": {},
   "outputs": [],
   "source": [
    "class Car() :\n",
    "    id = '0422'\n",
    "    name = 'khs'\n",
    "    speed = 100\n",
    "        "
   ]
  },
  {
   "cell_type": "code",
   "execution_count": 26,
   "id": "bf065ae2-0a12-40ec-8452-e6a2e5cc7552",
   "metadata": {},
   "outputs": [
    {
     "name": "stdout",
     "output_type": "stream",
     "text": [
      "4893 khs 100\n",
      "0422 bmw 80\n"
     ]
    }
   ],
   "source": [
    "c1 = Car() # 객체 생성\n",
    "c2 = Car()\n",
    "\n",
    "c1.id = '4893'\n",
    "c2.name = 'bmw'\n",
    "c2.speed = 80\n",
    "\n",
    "print(c1.id, c1.name, c1.speed)\n",
    "print(c2.id, c2.name, c2.speed)"
   ]
  },
  {
   "cell_type": "code",
   "execution_count": 49,
   "id": "b48ce657-18fa-4210-827c-01372adc6135",
   "metadata": {},
   "outputs": [],
   "source": [
    "class Person() :\n",
    "    name = 'khs'\n",
    "    age = 25"
   ]
  },
  {
   "cell_type": "code",
   "execution_count": 20,
   "id": "b6def08e-b305-4a7b-8d1a-ce969fc7b93a",
   "metadata": {},
   "outputs": [
    {
     "name": "stdout",
     "output_type": "stream",
     "text": [
      "khs 25\n"
     ]
    }
   ],
   "source": [
    "p1 = Person()\n",
    "\n",
    "print(p1.name, p1.age)"
   ]
  },
  {
   "cell_type": "code",
   "execution_count": 28,
   "id": "f1e86163-416e-4f8f-81e7-23bdc9a82d95",
   "metadata": {},
   "outputs": [],
   "source": [
    "class Car() :\n",
    "\n",
    "    def __init__ (self, id, name) :        #생성자\n",
    "        self.id = id\n",
    "        self.name = name"
   ]
  },
  {
   "cell_type": "code",
   "execution_count": 30,
   "id": "e15c08a6-c4a2-4972-98e0-5fb603169609",
   "metadata": {},
   "outputs": [
    {
     "name": "stdout",
     "output_type": "stream",
     "text": [
      "0422 khs\n",
      "4893 kwj\n"
     ]
    }
   ],
   "source": [
    "c1 = Car('0422', 'khs')\n",
    "c2 = Car('4893', 'kwj')\n",
    "\n",
    "print(c1.id, c1.name)\n",
    "print(c2.id, c2.name)"
   ]
  },
  {
   "cell_type": "code",
   "execution_count": 34,
   "id": "c8c141b5-bef1-489e-a889-b4ad2a979460",
   "metadata": {},
   "outputs": [],
   "source": [
    "class Car() :\n",
    "\n",
    "    def __init__ (self, id, name) :        #생성자\n",
    "        self.id = id\n",
    "        self.name = name\n",
    "        \n",
    "    def my_print(self) :\n",
    "        print(self.id, self.name)"
   ]
  },
  {
   "cell_type": "code",
   "execution_count": 39,
   "id": "8be302cb-1653-4183-80c2-62bd3f9eb858",
   "metadata": {},
   "outputs": [
    {
     "name": "stdout",
     "output_type": "stream",
     "text": [
      "0422 khs\n",
      "4893 kwj\n",
      "<class '__main__.Car'>\n"
     ]
    }
   ],
   "source": [
    "c1 = Car('0422', 'khs')\n",
    "c2 = Car('4893', 'kwj')\n",
    "\n",
    "c1.my_print()\n",
    "c2.my_print()\n",
    "print(type(c1))"
   ]
  },
  {
   "cell_type": "code",
   "execution_count": 54,
   "id": "6ca166ea-a029-4409-b56d-7a6f778b473f",
   "metadata": {},
   "outputs": [],
   "source": [
    "class Person () :\n",
    "    \n",
    "    def __init__(self, age, name) :\n",
    "        self.age = age\n",
    "        self.name = name\n",
    "        \n",
    "    def my_person(self) :\n",
    "        print(self.age, self.name)"
   ]
  },
  {
   "cell_type": "code",
   "execution_count": 55,
   "id": "d07ea6b4-78ae-49df-a889-ef25f1fb14f6",
   "metadata": {},
   "outputs": [
    {
     "name": "stdout",
     "output_type": "stream",
     "text": [
      "25 khs\n",
      "26 khs\n"
     ]
    }
   ],
   "source": [
    "p1 = Person(25, 'khs')\n",
    "p2 = Person(26, 'khs')\n",
    "\n",
    "p1.my_person()\n",
    "p2.my_person()"
   ]
  },
  {
   "cell_type": "code",
   "execution_count": 68,
   "id": "fb765b68-d7ec-4815-a2aa-71d6c7059d85",
   "metadata": {},
   "outputs": [],
   "source": [
    "class Car() :\n",
    "\n",
    "    def __init__ (self, id, name) :        #생성자\n",
    "        self.id = id\n",
    "        self.name = name\n",
    "        \n",
    "    def my_print(self) :\n",
    "        print(self.id, self.name)\n",
    "        \n",
    "    def get_id(self) :\n",
    "        return self.id\n",
    "    \n",
    "    def get_name(self) :\n",
    "        return self.name"
   ]
  },
  {
   "cell_type": "code",
   "execution_count": 85,
   "id": "03c4203a-2c3f-435b-b031-4ce5249d76c6",
   "metadata": {},
   "outputs": [
    {
     "name": "stdout",
     "output_type": "stream",
     "text": [
      "0422\n",
      "4893\n"
     ]
    }
   ],
   "source": [
    "c1 = Car('0422', 'khs')\n",
    "c2 = Car('4893', 'kwj')\n",
    "\n",
    "a = c1.get_id()\n",
    "b = c1.get_name()\n",
    "\n",
    "cars = [c1, c2]\n",
    "\n",
    "c = cars[0].get_id()\n",
    "\n",
    "for c in cars :\n",
    "    x = c.get_id()\n",
    "    \n",
    "    print(x)\n",
    "    "
   ]
  },
  {
   "cell_type": "code",
   "execution_count": null,
   "id": "fb02ed1a-2ae2-440c-8d2a-d857017e1577",
   "metadata": {},
   "outputs": [],
   "source": []
  },
  {
   "cell_type": "code",
   "execution_count": 2,
   "id": "60b4e137-0ad1-4ca0-9c91-a3f45a883206",
   "metadata": {},
   "outputs": [],
   "source": [
    "class Student() :\n",
    "    \n",
    "    def __init__(self, name, kor, eng, math):\n",
    "        self.name = name\n",
    "        self.kor = kor\n",
    "        self.eng = eng\n",
    "        self.math = math\n",
    "        \n",
    "    def get_name(self) :\n",
    "        return self.name\n",
    "    \n",
    "    def get_kor(self) :\n",
    "        return self.kor\n",
    "    \n",
    "    def get_eng(self) :\n",
    "        return self.eng\n",
    "    \n",
    "    def get_math(self) :\n",
    "        return self.math  \n",
    "    \n",
    "    def get_sum(self) :\n",
    "        x = self.kor + self.eng + self.math\n",
    "        \n",
    "        return x"
   ]
  },
  {
   "cell_type": "code",
   "execution_count": 3,
   "id": "9b8f2023-4329-4d8e-9598-44b75c774553",
   "metadata": {},
   "outputs": [
    {
     "name": "stdout",
     "output_type": "stream",
     "text": [
      "215 210 210 208 215\n"
     ]
    }
   ],
   "source": [
    "s1 = Student('kang', 70, 85, 60)\n",
    "s2 = Student('kim', 60, 80, 70)\n",
    "s3 = Student('jun', 80, 70, 60)\n",
    "s4 = Student('hun', 65, 75, 68)\n",
    "s5 = Student('park', 77, 88, 50)\n",
    "\n",
    " \n",
    "a = s1.get_sum()\n",
    "b = s2.get_sum()\n",
    "c = s3.get_sum()\n",
    "d = s4.get_sum()\n",
    "e = s5.get_sum()\n",
    "\n",
    "#score = [s1, s2, s3, s4, s5]\n",
    "\n",
    "print(a, b, c, d, e)"
   ]
  },
  {
   "cell_type": "code",
   "execution_count": null,
   "id": "2982ae85-6c86-4107-bb27-20021b161cf1",
   "metadata": {},
   "outputs": [],
   "source": []
  },
  {
   "cell_type": "code",
   "execution_count": null,
   "id": "8c2370b7-bd93-4f1e-8c76-4fd1bf9eb97a",
   "metadata": {},
   "outputs": [],
   "source": [
    "name_1 = s1.get_name()\n",
    "name_2 = s2.get_name()\n",
    "name_3 = s3.get_name()\n",
    "name_4 = s4.get_name()\n",
    "name_5 = s5.get_name()\n"
   ]
  },
  {
   "cell_type": "code",
   "execution_count": null,
   "id": "8ba15434-f3e4-4b16-a2a8-b2b2ea341f3d",
   "metadata": {},
   "outputs": [],
   "source": []
  },
  {
   "cell_type": "code",
   "execution_count": null,
   "id": "996288ab-f6c7-492b-8f61-499f3c4ac7f6",
   "metadata": {},
   "outputs": [],
   "source": []
  },
  {
   "cell_type": "code",
   "execution_count": null,
   "id": "5fb8fc10-82a6-4ab3-b52d-2727681aa08d",
   "metadata": {},
   "outputs": [],
   "source": []
  },
  {
   "cell_type": "code",
   "execution_count": null,
   "id": "264cfdb4-e7fd-4161-8d51-58d02b8c4821",
   "metadata": {},
   "outputs": [],
   "source": []
  },
  {
   "cell_type": "code",
   "execution_count": null,
   "id": "74a772c6-822d-451a-813d-84465e926745",
   "metadata": {},
   "outputs": [],
   "source": []
  },
  {
   "cell_type": "code",
   "execution_count": null,
   "id": "1887b40c-473b-4f0b-920b-ed0d10af37bf",
   "metadata": {},
   "outputs": [],
   "source": [
    "\n"
   ]
  }
 ],
 "metadata": {
  "kernelspec": {
   "display_name": "Python 3 (ipykernel)",
   "language": "python",
   "name": "python3"
  },
  "language_info": {
   "codemirror_mode": {
    "name": "ipython",
    "version": 3
   },
   "file_extension": ".py",
   "mimetype": "text/x-python",
   "name": "python",
   "nbconvert_exporter": "python",
   "pygments_lexer": "ipython3",
   "version": "3.9.7"
  }
 },
 "nbformat": 4,
 "nbformat_minor": 5
}
