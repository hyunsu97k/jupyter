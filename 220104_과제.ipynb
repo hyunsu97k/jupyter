{
 "cells": [
  {
   "cell_type": "code",
   "execution_count": 84,
   "id": "f0ad2fde-95ba-466c-9f41-c6eb9dc394f6",
   "metadata": {},
   "outputs": [],
   "source": [
    "import requests\n",
    "#import json\n",
    "import re\n",
    "\n",
    "response = requests.get(\"https://www.summet.com/dmsi/html/codesamples/addresses.html\")\n",
    "#print(response.text)\n",
    "\n",
    "num = response.text\n",
    "#print(num)\n",
    "\n",
    "n1 = re.compile(\"\\(\\d{3}\\) \\d{3}\\-\\d{4}\")\n",
    "#print(n1.findall(num))\n",
    "\n",
    "phone_num = n1.findall(num)\n",
    "\n",
    "#print(phone_num)\n",
    "\n",
    "with open(\"phone_num.txt\", \"w\") as phone :\n",
    "    \n",
    "     for n in phone_num :\n",
    "#     #phone.writelines(phone_num)\n",
    "         phone.write('%s \\n' %n)"
   ]
  },
  {
   "cell_type": "code",
   "execution_count": 81,
   "id": "7ba666fb-e58e-47f6-b7fe-3bc5d471b877",
   "metadata": {},
   "outputs": [
    {
     "name": "stdout",
     "output_type": "stream",
     "text": [
      "(257) 563-7401 \n",
      "\n"
     ]
    }
   ],
   "source": [
    "with open(\"phone_num.txt\", \"r\") as phone :\n",
    "    print(phone.readline())"
   ]
  },
  {
   "cell_type": "code",
   "execution_count": null,
   "id": "0436980a-2d74-4990-9726-87c35df8a27a",
   "metadata": {},
   "outputs": [],
   "source": []
  },
  {
   "cell_type": "code",
   "execution_count": null,
   "id": "664401ab-61bd-4a71-b0fc-1bd2d83adacb",
   "metadata": {},
   "outputs": [],
   "source": [
    "import requests\n",
    "#import json\n",
    "import re\n",
    "\n",
    "response = requests.get(\"https://www.summet.com/dmsi/html/codesamples/addresses.html\")\n",
    "#print(response.text)\n",
    "\n",
    "num = response.text\n",
    "#print(num)\n",
    "\n",
    "n1 = re.compile(\"\\(\\d{3}\\) \\d{3}\\-\\d{4}\")\n",
    "#print(n1.findall(num))\n",
    "\n",
    "phone_num = n1.findall(num)\n",
    "\n",
    "#print(type(phone_num))\n",
    "\n",
    "a = []\n",
    "\n",
    "for x in phone_num :\n",
    "    a.append(x + '\\n')\n",
    "\n",
    "with open(\"phone_num.txt\", \"w\") as phone :\n",
    "     phone.writelines(a)\n",
    "#     #  for n in phone_num :\n",
    "#     #     phone.writelines( n + '\\n')\n",
    "#     #     phone.write('%s \\n' %n)"
   ]
  },
  {
   "cell_type": "code",
   "execution_count": null,
   "id": "6710916f-c3a9-4096-8793-62de9d3aac51",
   "metadata": {},
   "outputs": [],
   "source": []
  }
 ],
 "metadata": {
  "kernelspec": {
   "display_name": "Python 3 (ipykernel)",
   "language": "python",
   "name": "python3"
  },
  "language_info": {
   "codemirror_mode": {
    "name": "ipython",
    "version": 3
   },
   "file_extension": ".py",
   "mimetype": "text/x-python",
   "name": "python",
   "nbconvert_exporter": "python",
   "pygments_lexer": "ipython3",
   "version": "3.9.7"
  }
 },
 "nbformat": 4,
 "nbformat_minor": 5
}
