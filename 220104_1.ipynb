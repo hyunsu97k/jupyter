{
 "cells": [
  {
   "cell_type": "markdown",
   "id": "2d2bc013-19c2-4204-b303-046b076ca672",
   "metadata": {},
   "source": [
    "# File"
   ]
  },
  {
   "cell_type": "code",
   "execution_count": 1,
   "id": "916ec367-4dd6-4b14-98c6-20479f112e6d",
   "metadata": {},
   "outputs": [],
   "source": [
    "f = open(\"test.txt\", \"w\")\n",
    "\n",
    "f.write(\"텍스트 파일을 새로 만들고 텍스트를 씁니다.\\n\")\n",
    "f.write(\"텍스트 파일을 새로 만들고 텍스트를 씁니다.\\n\")\n",
    "f.close()"
   ]
  },
  {
   "cell_type": "code",
   "execution_count": 2,
   "id": "65f8acc7-dcf1-4f70-b3bf-90e818b2f222",
   "metadata": {},
   "outputs": [
    {
     "name": "stdout",
     "output_type": "stream",
     "text": [
      "텍스트 파일을 새로 만들고 텍스트를 씁니다.\n",
      "\n",
      "텍스트 파일을 새로 만들고 텍스트를 씁니다.\n",
      "\n"
     ]
    }
   ],
   "source": [
    "f = open(\"test.txt\", \"r\")\n",
    "\n",
    "print(f.readline())\n",
    "print(f.readline())"
   ]
  },
  {
   "cell_type": "code",
   "execution_count": 36,
   "id": "13d91d52-dbbd-4407-9894-0463b1d2be53",
   "metadata": {},
   "outputs": [],
   "source": [
    "f = open(\"test.txt\", \"w\", encoding = \"utf-8\")\n",
    "\n",
    "f.write(\"텍스트 파일을 새로 만들고 텍스트를 씁니다.\\n\")\n",
    "f.write(\"텍스트 파일을 새로 만들고 텍스트를 씁니다.\\n\")\n",
    "f.close()"
   ]
  },
  {
   "cell_type": "code",
   "execution_count": 33,
   "id": "aee1cccf-d7b2-4bad-819e-24fce33ee8ea",
   "metadata": {},
   "outputs": [
    {
     "name": "stdout",
     "output_type": "stream",
     "text": [
      "[{\"name\": \"kang\", \"age\": 26, \"city\": \"Incheon\"}, {\"name\": \"Choi\", \"age\": 19, \"city\": \"Seoul\"}]테스트1 입니다. \n",
      "\n",
      "테스트2 입니다. \n",
      "\n"
     ]
    }
   ],
   "source": [
    "f = open(\"test.txt\", \"r\", encoding = \"utf-8\")\n",
    "#f.read(10)\n",
    "\n",
    "#print(f.readline())\n",
    "#print(f.readline())\n",
    "\n",
    "while True :  # while True --> 무한루프\n",
    "    x = f.readline()\n",
    "    if x :                          # x != '' --> python은 ''와같이 빈문자열이면 False처리기 떄문에  --> x == True 라고 쓸수있음\n",
    "        print(x)\n",
    "        \n",
    "        \n",
    "    else :\n",
    "        break\n",
    "        \n",
    "f.close()"
   ]
  },
  {
   "cell_type": "code",
   "execution_count": 32,
   "id": "fe3cae59-8f44-4496-8306-ba51a9f6c6e6",
   "metadata": {},
   "outputs": [
    {
     "name": "stdout",
     "output_type": "stream",
     "text": [
      "[{\"name\": \"kang\", \"age\": 26, \"city\": \"Incheon\"}, {\"name\": \"Choi\", \"age\": 19, \"city\": \"Seoul\"}]테스트1 입니다. \n",
      "\n",
      "테스트2 입니다. \n",
      "\n"
     ]
    }
   ],
   "source": [
    "f = open(\"test.txt\", \"r\", encoding = \"utf-8\")\n",
    "#f.read(10)\n",
    "\n",
    "#print(f.readline())\n",
    "#print(f.readline())\n",
    "\n",
    "#while True :  # while True --> 무한루프\n",
    "#    x = f.readline()\n",
    "#    if x :                          # x != '' --> python은 ''와같이 빈문자열이면 False처리기 떄문에  --> x == True 라고 쓸수있음\n",
    "#        print(x)\n",
    "        \n",
    "        \n",
    "#    else :\n",
    "#        break\n",
    "\n",
    "#f.readlines()\n",
    "\n",
    "\n",
    "#print(type(f.readlines()))\n",
    "\n",
    "x = f.readlines()\n",
    "\n",
    "for n in x :\n",
    "    print(n)\n",
    "\n",
    "f.close()"
   ]
  },
  {
   "cell_type": "code",
   "execution_count": 30,
   "id": "24237b3d-6d56-4521-b453-265517b24e46",
   "metadata": {},
   "outputs": [],
   "source": [
    "with open(\"test.txt\", \"a\", encoding = \"utf-8\") as test :\n",
    "    test.write(\"테스트1 입니다. \\n\")\n",
    "    test.write(\"테스트2 입니다. \\n\")"
   ]
  },
  {
   "cell_type": "code",
   "execution_count": 31,
   "id": "55c9ce10-63e9-48a7-97e8-6effa40ca2de",
   "metadata": {},
   "outputs": [
    {
     "name": "stdout",
     "output_type": "stream",
     "text": [
      "[{\"name\": \"kang\", \"age\": 26, \"city\": \"Incheon\"}, {\"name\": \"Choi\", \"age\": 19, \"city\": \"Seoul\"}]테스트1 입니다. \n",
      "\n",
      "테스트2 입니다. \n",
      "\n"
     ]
    }
   ],
   "source": [
    "with open(\"test.txt\", \"r\", encoding = \"utf-8\") as test :\n",
    "    x = test.readlines()\n",
    "    for n in x :\n",
    "        print(n)"
   ]
  },
  {
   "cell_type": "code",
   "execution_count": 37,
   "id": "0c4209a6-71c1-4809-acc6-a9c3f8c6f769",
   "metadata": {},
   "outputs": [],
   "source": [
    "import json\n",
    "\n",
    "json_string = '''[\n",
    "               { \"name\" : \"kang\",\n",
    "                 \"age\" : 26,\n",
    "                 \"city\" : \"Incheon\" },\n",
    "                 { \"name\" : \"Choi\",\n",
    "                 \"age\" : 19,\n",
    "                 \"city\" : \"Seoul\" }\n",
    "                 ]'''                # ''' 를 쓰거나 줄바꿀때 뒤에 \\ 붙히거나\n",
    "        \n"
   ]
  },
  {
   "cell_type": "code",
   "execution_count": 69,
   "id": "92e30d8c-2c6a-48f2-a914-2b1616ae1f79",
   "metadata": {},
   "outputs": [
    {
     "name": "stdout",
     "output_type": "stream",
     "text": [
      "[\n",
      "\n",
      "               { \"name\" : \"kang\",\n",
      "\n",
      "                 \"age\" : 26,\n",
      "\n",
      "                 \"city\" : \"Incheon\" },\n",
      "\n",
      "                 { \"name\" : \"Choi\",\n",
      "\n",
      "                 \"age\" : 19,\n",
      "\n",
      "                 \"city\" : \"Seoul\" }\n",
      "\n",
      "                 ]\n"
     ]
    }
   ],
   "source": [
    "with open(\"test.json\", \"w\", encoding = \"utf-8\") as test :\n",
    "    test.write(json_string)\n",
    "    \n",
    "with open(\"test.json\", \"r\", encoding = \"utf-8\") as test :\n",
    "    x = test.readlines()\n",
    "    for i in x :\n",
    "        print(i)\n",
    "    #x = json.load(test) # json 파일 자체를 로드시켜서 리스트로 가져온다\n",
    "    #print(type(x), x)"
   ]
  },
  {
   "cell_type": "code",
   "execution_count": 91,
   "id": "97c0ea57-d389-415c-b514-7fe5f53923c8",
   "metadata": {},
   "outputs": [],
   "source": [
    "import requests\n",
    "import json\n",
    "\n",
    "response = requests.get(\"http://api.github.com\")\n",
    "#print(type(response))\n",
    "\n",
    "#print(response.status_code)\n",
    "#print(response.content)\n",
    "\n",
    "# if response.status_code == 200 :\n",
    "#     json_object = json.loads(response.text)\n",
    "    \n",
    "#     with open(\"test2.json\", \"w\", encoding = \"utf-8\") as x :\n",
    "#     x.write(response.text)\n",
    "    \n",
    "# print(json_object[\"current_user_url\"])\n",
    "\n",
    "with open(\"test1.json\", \"w\", encoding = \"utf-8\") as x :\n",
    "    x.write(response.text)"
   ]
  },
  {
   "cell_type": "code",
   "execution_count": null,
   "id": "a1e80216-8a90-4cfd-bf9d-e3af289a9f1d",
   "metadata": {},
   "outputs": [],
   "source": []
  },
  {
   "cell_type": "code",
   "execution_count": null,
   "id": "e2dd7b57-38f9-4e93-b479-9b1aa3fb80d8",
   "metadata": {},
   "outputs": [],
   "source": []
  },
  {
   "cell_type": "code",
   "execution_count": null,
   "id": "db6022a0-4c1f-4b36-ac59-07faaba18f50",
   "metadata": {},
   "outputs": [],
   "source": []
  },
  {
   "cell_type": "code",
   "execution_count": null,
   "id": "88dfec24-5e61-47a3-9a01-1b5081b01741",
   "metadata": {},
   "outputs": [],
   "source": []
  },
  {
   "cell_type": "code",
   "execution_count": null,
   "id": "ae1be475-3c78-4242-a3dc-9e9e4ab5edb3",
   "metadata": {},
   "outputs": [],
   "source": []
  },
  {
   "cell_type": "code",
   "execution_count": null,
   "id": "200ca916-8740-42c6-a787-a7d492b961db",
   "metadata": {},
   "outputs": [],
   "source": []
  },
  {
   "cell_type": "code",
   "execution_count": null,
   "id": "d80f8774-8362-4707-87dd-128c7929eb12",
   "metadata": {},
   "outputs": [],
   "source": []
  }
 ],
 "metadata": {
  "kernelspec": {
   "display_name": "Python 3 (ipykernel)",
   "language": "python",
   "name": "python3"
  },
  "language_info": {
   "codemirror_mode": {
    "name": "ipython",
    "version": 3
   },
   "file_extension": ".py",
   "mimetype": "text/x-python",
   "name": "python",
   "nbconvert_exporter": "python",
   "pygments_lexer": "ipython3",
   "version": "3.9.7"
  }
 },
 "nbformat": 4,
 "nbformat_minor": 5
}
