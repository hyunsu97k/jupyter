{
 "cells": [
  {
   "cell_type": "code",
   "execution_count": 5,
   "id": "5b3d11d9-c092-4c06-8eae-4f6dac8475d9",
   "metadata": {},
   "outputs": [],
   "source": [
    "class Account :\n",
    "    \n",
    "    # 생성자 만들기\n",
    "    def __init__(self, bank, name, num, balance) :\n",
    "        self.__bank = bank\n",
    "        self.__name = name\n",
    "        self.__num = num\n",
    "        self.__balance = balance\n",
    "        \n",
    "    # getter함수와 setter함수를 이용해 식만들기\n",
    "    def get_bank(self) :\n",
    "        return self.__bank\n",
    "    \n",
    "    #def set_bank(self, bank) :\n",
    "        #self.__bank = bank\n",
    "        \n",
    "    def get_name(self) :\n",
    "        return self.__name\n",
    "    \n",
    "    #def set_bank(self, name) :\n",
    "        #self.__name = name\n",
    "        \n",
    "    def get_num(self) :\n",
    "        return self.__num\n",
    "    \n",
    "    #def set_num(self, num) :\n",
    "        #self.__num = num\n",
    "        \n",
    "    def get_balance(self) :\n",
    "        return self.__num\n",
    "    \n",
    "    #def set_balance(self, balance) :\n",
    "        #self.__balance = balance\n",
    "        \n",
    "    #입금\n",
    "    def deposit(self, money) :\n",
    "        self.__balnce = self.__balance + money\n",
    "        \n",
    "    #출금\n",
    "    def withdraw(self, money) :\n",
    "        if self.__balance >= money :\n",
    "            self.__balance = self.__balance - money\n",
    "            \n",
    "        else :\n",
    "            print(\"잔액이 부족합니다.\")\n",
    "    \n",
    "    #송금\n",
    "    def transfer(self, money, other) :\n",
    "        self.__balance = self.__balance - money\n",
    "        other.__balance = other.__balance + money\n",
    "        \n",
    "        #other_balance = other.get_balance()\n",
    "        #other.set_balance(other_balance + money)\n",
    "        \n",
    "        \n",
    "    #정보 출력\n",
    "    def print_info(self) :\n",
    "        print(\"은행이름: %s\" %self.__bank)\n",
    "        print(\"성함: %s\" %self.__name)\n",
    "        print(\"계좌번호: %s\" %self.__num)\n",
    "        print(\"잔액: %d원\" %self.__balance)"
   ]
  },
  {
   "cell_type": "code",
   "execution_count": 6,
   "id": "f292c187-963d-44e5-b933-fc34a33be128",
   "metadata": {},
   "outputs": [
    {
     "name": "stdout",
     "output_type": "stream",
     "text": [
      "은행이름: 카카오뱅크\n",
      "성함: Kang\n",
      "계좌번호: 3333-07-*******\n",
      "잔액: 520000원\n",
      "은행이름: 국민은행\n",
      "성함: Choi\n",
      "계좌번호: 941602-00-******\n",
      "잔액: 378200원\n",
      "None None\n"
     ]
    }
   ],
   "source": [
    "c1 = Account(\"카카오뱅크\",\"Kang\", \"3333-07-*******\", 530000)\n",
    "c2 = Account(\"국민은행\", \"Choi\", \"941602-00-******\", 368200)\n",
    "c3 = Account(\"기업은행\", \"Kim\", \"123-166459-**-***\", 1386000)\n",
    "\n",
    "c1.transfer(10000, c2)\n",
    "print(c1.print_info(), c2.print_info())"
   ]
  },
  {
   "cell_type": "code",
   "execution_count": null,
   "id": "4973a8a5-b4bc-4178-90dd-fb43ffd7d6f0",
   "metadata": {},
   "outputs": [],
   "source": []
  },
  {
   "cell_type": "code",
   "execution_count": null,
   "id": "d839709f-ce39-40df-bf56-cdd8cfcd1ec2",
   "metadata": {},
   "outputs": [],
   "source": []
  },
  {
   "cell_type": "code",
   "execution_count": null,
   "id": "a4e2e36a-8ba1-4e45-9775-f5c3b101a4d5",
   "metadata": {},
   "outputs": [],
   "source": [
    "question = int(input('번호를 입력하세요. 1:계좌개설, 2:입금, 3:출금, 4:송금'))\n",
    "\n",
    "for n in range(4) :\n",
    "    if n == 1 :"
   ]
  },
  {
   "cell_type": "code",
   "execution_count": null,
   "id": "9670813e-c1ab-409f-81aa-2dd5964bb46b",
   "metadata": {},
   "outputs": [],
   "source": []
  },
  {
   "cell_type": "code",
   "execution_count": null,
   "id": "80ae9f9d-a971-401e-9f3e-c6b104aaaf56",
   "metadata": {},
   "outputs": [],
   "source": []
  }
 ],
 "metadata": {
  "kernelspec": {
   "display_name": "Python 3 (ipykernel)",
   "language": "python",
   "name": "python3"
  },
  "language_info": {
   "codemirror_mode": {
    "name": "ipython",
    "version": 3
   },
   "file_extension": ".py",
   "mimetype": "text/x-python",
   "name": "python",
   "nbconvert_exporter": "python",
   "pygments_lexer": "ipython3",
   "version": "3.9.7"
  }
 },
 "nbformat": 4,
 "nbformat_minor": 5
}
