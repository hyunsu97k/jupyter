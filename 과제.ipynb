{
 "cells": [
  {
   "cell_type": "markdown",
   "id": "708e17a0-6eef-46b9-b970-13a8943fb465",
   "metadata": {},
   "source": [
    "### 고친부분"
   ]
  },
  {
   "cell_type": "code",
   "execution_count": null,
   "id": "c9cc78c7-2f17-4dd1-9e59-6b5455b2d4e6",
   "metadata": {},
   "outputs": [],
   "source": [
    "question = int(input(\"정답을 입력하세요\"))\n",
    "answer = 163\n",
    "chance = 9\n",
    "\n",
    "while chance >= 0 :\n",
    "    if question == answer :\n",
    "        print(\"정답입니다\")\n",
    "        break\n",
    "    else :\n",
    "        chance -= 1\n",
    "        print(\"틀렸습니다\")\n",
    "    question = int(input(\"정답을 입력하세요\"))\n",
    "    \n",
    "    if chance == 0 :\n",
    "        if question == answer :    # 마지막 기회에서도 정답일경우 추가\n",
    "            print('정답입니다')\n",
    "        else :\n",
    "            print(\"기회가 소진되었습니다.\")\n",
    "        break\n",
    "\n"
   ]
  },
  {
   "cell_type": "markdown",
   "id": "72fc8867-f744-478b-9a98-2ec16c16e923",
   "metadata": {},
   "source": [
    "### 하민님꺼"
   ]
  },
  {
   "cell_type": "code",
   "execution_count": null,
   "id": "33d67a6e-b8e4-4a51-bdea-93ee1427a618",
   "metadata": {},
   "outputs": [],
   "source": [
    "question = int(input(\"정답을 입력하세요\"))\n",
    "answer = 163\n",
    "chance = 9\n",
    "\n",
    "while chance >= 0 :\n",
    "    if question == answer :\n",
    "        print(\"정답입니다\")\n",
    "        break\n",
    "    else :\n",
    "        chance -= 1\n",
    "        print(\"틀렸습니다\")\n",
    "    question = int(input(\"정답을 입력하세요\"))\n",
    "    \n",
    "    if chance == 0 :\n",
    "        print(\"기회가 소진되었습니다.\")\n",
    "        break"
   ]
  },
  {
   "cell_type": "code",
   "execution_count": null,
   "id": "d6537953-c637-47e7-834b-5fde4efbad71",
   "metadata": {},
   "outputs": [],
   "source": []
  }
 ],
 "metadata": {
  "kernelspec": {
   "display_name": "Python 3 (ipykernel)",
   "language": "python",
   "name": "python3"
  },
  "language_info": {
   "codemirror_mode": {
    "name": "ipython",
    "version": 3
   },
   "file_extension": ".py",
   "mimetype": "text/x-python",
   "name": "python",
   "nbconvert_exporter": "python",
   "pygments_lexer": "ipython3",
   "version": "3.9.7"
  }
 },
 "nbformat": 4,
 "nbformat_minor": 5
}
