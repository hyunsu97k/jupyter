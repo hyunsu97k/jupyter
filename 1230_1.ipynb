{
 "cells": [
  {
   "cell_type": "markdown",
   "id": "3d34c4fd-19fb-4842-8cec-7c7f827f54da",
   "metadata": {},
   "source": [
    "# DAY 04"
   ]
  },
  {
   "cell_type": "code",
   "execution_count": 6,
   "id": "98b5e707-4c74-4c57-b163-bb81e7cba39b",
   "metadata": {},
   "outputs": [],
   "source": [
    "def my_add(a, b) :\n",
    "    x = a + b\n",
    "    \n",
    "    return x"
   ]
  },
  {
   "cell_type": "code",
   "execution_count": 8,
   "id": "476efa26-7f5a-4d79-b220-7e4a94c66668",
   "metadata": {},
   "outputs": [
    {
     "name": "stdout",
     "output_type": "stream",
     "text": [
      "None\n"
     ]
    }
   ],
   "source": [
    "y = my_add(10, 20)\n",
    "print(y)"
   ]
  },
  {
   "cell_type": "code",
   "execution_count": 26,
   "id": "e466e055-175a-42de-889c-ddd376cc1d97",
   "metadata": {},
   "outputs": [],
   "source": [
    "def my_evenodd( x ) :\n",
    "    if x % 2 == 0 :\n",
    "        print('짝수')\n",
    "    else :\n",
    "        print('홀수')"
   ]
  },
  {
   "cell_type": "code",
   "execution_count": 13,
   "id": "02eaafdf-922b-4226-8126-ca579baf1477",
   "metadata": {},
   "outputs": [
    {
     "name": "stdout",
     "output_type": "stream",
     "text": [
      "짝수\n"
     ]
    }
   ],
   "source": [
    "my_evenodd( 10 )"
   ]
  },
  {
   "cell_type": "code",
   "execution_count": 14,
   "id": "54ee1921-f89c-456a-b799-986beb45e5d7",
   "metadata": {},
   "outputs": [
    {
     "name": "stdout",
     "output_type": "stream",
     "text": [
      "홀수\n"
     ]
    }
   ],
   "source": [
    "my_evenodd( 5 )"
   ]
  },
  {
   "cell_type": "code",
   "execution_count": 23,
   "id": "5b31e1e4-a4cf-4708-93b4-02f10f809087",
   "metadata": {},
   "outputs": [],
   "source": [
    "def my_evenodd( x ) :\n",
    "    if x % 2 == 0 :\n",
    "        return 'R짝수'\n",
    "    else :\n",
    "        return 'R홀수'"
   ]
  },
  {
   "cell_type": "code",
   "execution_count": 27,
   "id": "d6674ed1-14cd-4377-b07a-22cfc756d820",
   "metadata": {},
   "outputs": [
    {
     "name": "stdout",
     "output_type": "stream",
     "text": [
      "짝수\n",
      "None\n"
     ]
    }
   ],
   "source": [
    "y = my_evenodd(10)\n",
    "print(y)"
   ]
  },
  {
   "cell_type": "code",
   "execution_count": null,
   "id": "6f7973ee-0549-4b85-8488-3a164a2f1244",
   "metadata": {},
   "outputs": [],
   "source": [
    "def my_evenodd(num) :\n",
    "    if num % 2 == 0 :\n",
    "        s = '짝'\n",
    "    else :\n",
    "        s = '홀'\n",
    "        \n",
    "    return s"
   ]
  },
  {
   "cell_type": "code",
   "execution_count": 32,
   "id": "9e24921b-423a-49e1-bb39-02d4958106bc",
   "metadata": {},
   "outputs": [],
   "source": [
    "def my_addsub(a, b) :\n",
    "    add = a + b\n",
    "    sub = a - b\n",
    "\n",
    "    return add, sub"
   ]
  },
  {
   "cell_type": "code",
   "execution_count": 34,
   "id": "bdf67204-053c-484f-98d0-e9f98ece7f9a",
   "metadata": {},
   "outputs": [
    {
     "name": "stdout",
     "output_type": "stream",
     "text": [
      "<class 'tuple'> 15 5\n"
     ]
    }
   ],
   "source": [
    "y = my_addsub(10, 5)\n",
    "print(type(y), y[0], y[1])"
   ]
  },
  {
   "cell_type": "code",
   "execution_count": 38,
   "id": "7feb1494-3a26-48d3-b422-5442cfb94854",
   "metadata": {},
   "outputs": [],
   "source": [
    "def area(r) :\n",
    "    x = 3.14 * r**2\n",
    "    \n",
    "    return x"
   ]
  },
  {
   "cell_type": "code",
   "execution_count": 53,
   "id": "951262c8-c81c-4cc0-b4cf-5246608f06f5",
   "metadata": {},
   "outputs": [
    {
     "name": "stdin",
     "output_type": "stream",
     "text": [
      "반지름을 입력하세요 10\n"
     ]
    },
    {
     "name": "stdout",
     "output_type": "stream",
     "text": [
      "314.0\n",
      "<class 'float'>\n"
     ]
    }
   ],
   "source": [
    "y = area( int(input(\"반지름을 입력하세요\")))\n",
    "print(y)\n",
    "print(type(y))"
   ]
  },
  {
   "cell_type": "code",
   "execution_count": 64,
   "id": "28d60d1e-02cc-478b-801e-76faff02e30f",
   "metadata": {},
   "outputs": [],
   "source": [
    "def my_family( *name ):\n",
    "    for x in name :\n",
    "        print(x)"
   ]
  },
  {
   "cell_type": "code",
   "execution_count": 70,
   "id": "dd10627e-f071-4759-b033-d2d4d2b4c98d",
   "metadata": {},
   "outputs": [
    {
     "name": "stdout",
     "output_type": "stream",
     "text": [
      "k\n",
      "a\n",
      "b\n"
     ]
    }
   ],
   "source": [
    "my_family('k', 'a', 'b')"
   ]
  },
  {
   "cell_type": "code",
   "execution_count": 85,
   "id": "db58ef31-b45d-4572-9be6-d1b69d45e014",
   "metadata": {},
   "outputs": [],
   "source": [
    "def my_family(**name):\n",
    "    print(name['fname'], name['aname'])"
   ]
  },
  {
   "cell_type": "code",
   "execution_count": 86,
   "id": "168bcca9-32f2-44cb-8500-caab4e2448e1",
   "metadata": {},
   "outputs": [
    {
     "name": "stdout",
     "output_type": "stream",
     "text": [
      "hyunsu kang\n"
     ]
    }
   ],
   "source": [
    "my_family(fname ='hyunsu', aname = 'kang')"
   ]
  },
  {
   "cell_type": "code",
   "execution_count": 123,
   "id": "7f364754-0fd0-4557-9cff-917f35e40121",
   "metadata": {},
   "outputs": [],
   "source": [
    "def my_number(*num):\n",
    "    x = 0\n",
    "    for i in num :\n",
    "        x = x + i\n",
    "        print(x)"
   ]
  },
  {
   "cell_type": "code",
   "execution_count": 124,
   "id": "ada4c2c4-fdc5-4a6b-959d-62b9222c0395",
   "metadata": {},
   "outputs": [
    {
     "name": "stdout",
     "output_type": "stream",
     "text": [
      "1\n",
      "3\n",
      "6\n",
      "<class 'int'>\n"
     ]
    }
   ],
   "source": [
    "my_number(1, 2, 3)\n",
    "print(type(x))"
   ]
  },
  {
   "cell_type": "code",
   "execution_count": 125,
   "id": "0403fb6a-0d20-4bd5-9eca-d14bb3cd43f6",
   "metadata": {},
   "outputs": [],
   "source": [
    "def my_country(country = \"korea\"):\n",
    "    print(country)"
   ]
  },
  {
   "cell_type": "code",
   "execution_count": 128,
   "id": "3e603054-f852-4ea5-be2d-c93a9906b51a",
   "metadata": {},
   "outputs": [
    {
     "name": "stdout",
     "output_type": "stream",
     "text": [
      "korea\n",
      "USA\n",
      "UK\n",
      "korea\n"
     ]
    }
   ],
   "source": [
    "my_country()\n",
    "my_country(\"USA\")\n",
    "my_country(\"UK\")\n",
    "my_country()"
   ]
  },
  {
   "cell_type": "code",
   "execution_count": 133,
   "id": "9ecbdbc9-1025-413b-a01f-64bc6f16ff66",
   "metadata": {},
   "outputs": [],
   "source": [
    "def my_country(state, country = \"korea\"):\n",
    "    print(state, country)"
   ]
  },
  {
   "cell_type": "code",
   "execution_count": 138,
   "id": "f04b13c8-759a-4546-9063-81c6fa6a3073",
   "metadata": {},
   "outputs": [
    {
     "name": "stdout",
     "output_type": "stream",
     "text": [
      "Incheon in korea\n",
      "Deagu in korea\n",
      "Seoul in korea\n"
     ]
    }
   ],
   "source": [
    "my_country( 'Incheon in' )\n",
    "my_country( 'Deagu in' )\n",
    "my_country( 'Seoul in' )"
   ]
  },
  {
   "cell_type": "code",
   "execution_count": 29,
   "id": "c3fbb0b6-4d3c-4524-a67e-e46a9ef06066",
   "metadata": {},
   "outputs": [],
   "source": [
    "def my_count(num):\n",
    "    x = 0\n",
    "    \n",
    "    for n in num :\n",
    "        x = x + n\n",
    "    return x"
   ]
  },
  {
   "cell_type": "code",
   "execution_count": 56,
   "id": "afe2bb3d-44c3-4d2a-885c-1ce0570531e0",
   "metadata": {},
   "outputs": [
    {
     "name": "stdin",
     "output_type": "stream",
     "text": [
      "횟수를 입력하세요 3\n",
      "숫자를 입력하세요 10\n",
      "숫자를 입력하세요 20\n",
      "숫자를 입력하세요 30\n"
     ]
    },
    {
     "name": "stdout",
     "output_type": "stream",
     "text": [
      "60\n"
     ]
    }
   ],
   "source": [
    "num = int(input(\"횟수를 입력하세요\"))\n",
    "\n",
    "list=[]\n",
    "\n",
    "for x in range(num) :        # 입력한 수만큼 반복\n",
    "    y = int(input( \"숫자를 입력하세요\" ))        #합하고 싶은 숫자를 입력\n",
    "    list.append(y)\n",
    "\n",
    "#print(list)\n",
    "\n",
    "z = my_count(list)\n",
    "\n",
    "print(z)"
   ]
  },
  {
   "cell_type": "code",
   "execution_count": 99,
   "id": "af5909b9-6de3-41fa-94ea-c6097984ebe4",
   "metadata": {},
   "outputs": [],
   "source": [
    "def my_count(num) :\n",
    "    list = []\n",
    "    \n",
    "    for x in range(num):\n",
    "        y = int(input('숫자를 입력하세요'))\n",
    "        list.append(y)\n",
    "        \n",
    "    return list"
   ]
  },
  {
   "cell_type": "code",
   "execution_count": 100,
   "id": "6188069e-a87e-46b3-9f7c-61e8826af8f5",
   "metadata": {},
   "outputs": [],
   "source": [
    "def my_sum(num) :\n",
    "    \n",
    "    i = 0\n",
    "    \n",
    "    for n in num :\n",
    "        i = i + n\n",
    "        \n",
    "    return i"
   ]
  },
  {
   "cell_type": "code",
   "execution_count": 101,
   "id": "10fe036a-87e6-4d46-87d6-0cb3db474738",
   "metadata": {},
   "outputs": [
    {
     "name": "stdin",
     "output_type": "stream",
     "text": [
      "횟수를 입력하세요 3\n",
      "숫자를 입력하세요 1\n",
      "숫자를 입력하세요 2\n",
      "숫자를 입력하세요 6\n"
     ]
    },
    {
     "name": "stdout",
     "output_type": "stream",
     "text": [
      "9\n"
     ]
    }
   ],
   "source": [
    "num = int(input('횟수를 입력하세요'))\n",
    "\n",
    "mylist = my_count(num)\n",
    "\n",
    "o = my_sum(mylist)\n",
    "\n",
    "print(o)"
   ]
  },
  {
   "cell_type": "code",
   "execution_count": null,
   "id": "24362c2d-1ba3-4a42-83ec-3b0df28a8f61",
   "metadata": {},
   "outputs": [],
   "source": []
  },
  {
   "cell_type": "code",
   "execution_count": null,
   "id": "55fc0c72-84ca-4203-aaa7-57070976655a",
   "metadata": {},
   "outputs": [],
   "source": []
  },
  {
   "cell_type": "code",
   "execution_count": null,
   "id": "bafbd467-c22a-4ec4-b461-94eff3e98bb2",
   "metadata": {},
   "outputs": [],
   "source": []
  },
  {
   "cell_type": "code",
   "execution_count": null,
   "id": "33d2958f-44e0-4916-ae86-31509bd17a0c",
   "metadata": {},
   "outputs": [],
   "source": []
  }
 ],
 "metadata": {
  "kernelspec": {
   "display_name": "Python 3 (ipykernel)",
   "language": "python",
   "name": "python3"
  },
  "language_info": {
   "codemirror_mode": {
    "name": "ipython",
    "version": 3
   },
   "file_extension": ".py",
   "mimetype": "text/x-python",
   "name": "python",
   "nbconvert_exporter": "python",
   "pygments_lexer": "ipython3",
   "version": "3.9.7"
  }
 },
 "nbformat": 4,
 "nbformat_minor": 5
}
