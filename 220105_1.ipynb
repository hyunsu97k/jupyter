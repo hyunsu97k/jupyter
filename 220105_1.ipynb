{
 "cells": [
  {
   "cell_type": "code",
   "execution_count": 14,
   "id": "4bc8014e-f6bb-4f8b-a557-2eb6d590e308",
   "metadata": {},
   "outputs": [
    {
     "name": "stdout",
     "output_type": "stream",
     "text": [
      "{\n",
      "  \"origin\": \"183.98.215.25\"\n",
      "}\n",
      "\n",
      "b'{\\n  \"origin\": \"183.98.215.25\"\\n}\\n'\n"
     ]
    }
   ],
   "source": [
    "import requests\n",
    "import re\n",
    "\n",
    "response = requests.get(\"http://www.httpbin.org/ip\")\n",
    "\n",
    "print(response.text)\n",
    "print(response.content)"
   ]
  },
  {
   "cell_type": "code",
   "execution_count": 29,
   "id": "d9125bc6-2bd2-49e0-979e-c875b73ce278",
   "metadata": {},
   "outputs": [],
   "source": [
    "import requests\n",
    "from bs4 import BeautifulSoup\n",
    "\n",
    "response = requests.get(\"https://www.summet.com/dmsi/html/codesamples/addresses.html\")\n",
    "\n",
    "#print(response.text)\n",
    "\n",
    "html_doc =response.text\n",
    "\n",
    "soup = BeautifulSoup(html_doc, \"html.parser\")\n",
    "\n",
    "#soup"
   ]
  },
  {
   "cell_type": "code",
   "execution_count": 30,
   "id": "c98103ff-bd72-4ece-9c1e-7f4611e94873",
   "metadata": {},
   "outputs": [
    {
     "name": "stdout",
     "output_type": "stream",
     "text": [
      "<li>Cecilia Chapman<br/>711-2880 Nulla St.<br/>Mankato Mississippi 96522<br/>(257) 563-7401</li>\n"
     ]
    }
   ],
   "source": [
    "print(soup.ul.li)"
   ]
  },
  {
   "cell_type": "code",
   "execution_count": 31,
   "id": "1deab7fb-45e5-4bd1-be5f-035684c00185",
   "metadata": {},
   "outputs": [
    {
     "name": "stdout",
     "output_type": "stream",
     "text": [
      "<h1> A page full of sample addresses for your parsing enjoyment!</h1>\n",
      "[<h1> A page full of sample addresses for your parsing enjoyment!</h1>]\n"
     ]
    }
   ],
   "source": [
    "print(soup.find(\"h1\"))\n",
    "print(soup.find_all(\"h1\"))"
   ]
  },
  {
   "cell_type": "code",
   "execution_count": 32,
   "id": "9c097307-9b22-4dc4-9570-a4eb5c4347d4",
   "metadata": {},
   "outputs": [
    {
     "name": "stdout",
     "output_type": "stream",
     "text": [
      "Cecilia Chapman711-2880 Nulla St.Mankato Mississippi 96522(257) 563-7401\n",
      "Iris WatsonP.O. Box 283 8562 Fusce Rd.Frederick Nebraska 20620(372) 587-2335\n",
      "Celeste Slater606-3727 Ullamcorper. StreetRoseville NH 11523(786) 713-8616\n",
      "Theodore LoweAp #867-859 Sit Rd.Azusa New York 39531(793) 151-6230\n",
      "Calista Wise7292 Dictum Av.San Antonio MI 47096(492) 709-6392\n",
      "Kyla OlsenAp #651-8679 Sodales Av.Tamuning PA 10855(654) 393-5734\n",
      "Forrest Ray191-103 Integer Rd.Corona New Mexico 08219(404) 960-3807\n",
      "Hiroko PotterP.O. Box 887 2508 Dolor. Av.Muskegon KY 12482(314) 244-6306\n",
      "Nyssa Vazquez511-5762 At Rd.Chelsea MI 67708(947) 278-5929\n",
      "Lawrence Moreno935-9940 Tortor. StreetSanta Rosa MN 98804(684) 579-1879\n",
      "Ina MoranP.O. Box 929 4189 Nunc RoadLebanon KY 69409(389) 737-2852\n",
      "Aaron Hawkins5587 Nunc. AvenueErie Rhode Island 24975(660) 663-4518\n",
      "Hedy GreeneAp #696-3279 Viverra. AvenueLatrobe DE 38100(608) 265-2215\n",
      "Melvin PorterP.O. Box 132 1599 Curabitur Rd.Bandera South Dakota 45149(959) 119-8364\n",
      "Keefe Sellers347-7666 Iaculis St.Woodruff SC 49854(468) 353-2641\n",
      "Joan Romero666-4366 Lacinia AvenueIdaho Falls Ohio 19253(248) 675-4007\n",
      "Davis PatrickP.O. Box 147 2546 Sociosqu Rd.Bethlehem Utah 02913(939) 353-1107\n",
      "Leilani Boyer557-6308 Lacinia RoadSan Bernardino ND 09289(570) 873-7090\n",
      "Colby BernardAp #285-7193 Ullamcorper AvenueAmesbury HI 93373(302) 259-2375\n",
      "Bryar Pitts5543 Aliquet St.Fort Dodge GA 20783(717) 450-4729\n",
      "Rahim Henderson5037 Diam Rd.Daly City Ohio 90255(453) 391-4650\n",
      "Noelle Adams6351 Fringilla AvenueGardena Colorado 37547(559) 104-5475\n",
      "Lillith Daniel935-1670 Neque. St.Centennial Delaware 48432(387) 142-9434\n",
      "Adria Russell414-7533 Non Rd.Miami Beach North Dakota 58563(516) 745-4496\n",
      "Hilda Haynes778-9383 Suspendisse Av.Weirton IN 93479(326) 677-3419\n",
      "Sheila McintoshP.O. Box 360 4407 Et Rd.Santa Monica FL 30309(746) 679-2470\n",
      "Rebecca ChambersP.O. Box 813 5982 Sit AveLiberal Vermont 51324(455) 430-0989\n",
      "Christian EmersonP.O. Box 886 4118 Arcu St.Rolling Hills Georgia 92358(490) 936-4694\n",
      "Nevada WareP.O. Box 597 4156 Tincidunt AveGreen Bay Indiana 19759(985) 834-8285\n",
      "Margaret JosephP.O. Box 508 3919 Gravida St.Tamuning Washington 55797(662) 661-1446\n",
      "Edward Nieves928-3313 Vel Av.Idaho Falls Rhode Island 37232(802) 668-8240\n",
      "Imani TalleyP.O. Box 262 4978 Sit St.Yigo Massachusetts 50654(477) 768-9247\n",
      "Bertha RiggsP.O. Box 206 6639 In St.Easthampton TN 31626(791) 239-9057\n",
      "Wallace Ross313 Pellentesque AveVilla Park Hawaii 43526(832) 109-0213\n",
      "Chester Bennett3476 Aliquet. AveMinot AZ 95302(837) 196-3274\n",
      "Castor RichardsonP.O. Box 902 3472 Ullamcorper StreetLynchburg DC 29738(268) 442-2428\n",
      "Sonya JordanAp #443-336 Ullamcorper. StreetVisalia VA 54886(850) 676-5117\n",
      "Harrison Mcguire574-8633 Arcu StreetSan Fernando ID 77373(861) 546-5032\n",
      "Malcolm Long9291 Proin RoadLake Charles Maine 11292(176) 805-4108\n",
      "Raymond LevyAp #643-7006 Risus St.Beaumont New Mexico 73585(715) 912-6931\n",
      "Hedley Ingram737-2580 At StreetIndependence Texas 87535(993) 554-0563\n",
      "David Mathews1011 Malesuada RoadMoscow Kentucky 77382(357) 616-5411\n",
      "Xyla Cash969-1762 Tincidunt Rd.Boise CT 35282(121) 347-0086\n",
      "Madeline Gregory977-4841 Ut AveWalla Walla Michigan 82776(304) 506-6314\n",
      "Griffith Daniels6818 Eget St.Tacoma AL 92508(425) 288-2332\n",
      "Anne Beasley987-4223 Urna St.Savannah Illinois 85794(145) 987-4962\n",
      "Chaney BennettP.O. Box 721 902 Dolor Rd.Fremont AK 19408(187) 582-9707\n",
      "Daniel BernardP.O. Box 567 1561 Duis Rd.Pomona TN 08609(750) 558-3965\n",
      "Willow HuntAp #784-1887 Lobortis AveCudahy Ohio 31522(492) 467-3131\n",
      "Judith Floyd361-7936 Feugiat St.Williston Nevada 58521(774) 914-2510\n",
      "Seth Farley6216 Aenean AvenueSeattle Utah 81202(888) 106-8550\n",
      "Zephania Sanders3714 Nascetur St.Hawthorne Louisiana 10626(539) 567-3573\n",
      "Calista MerrittAp #938-5470 Posuere AveChickasha LA 58520(693) 337-2849\n",
      "Craig WilliamsP.O. Box 372 5634 Montes Rd.Springdale MO 57692(545) 604-9386\n",
      "Lee Preston981 Eget Rd.Clemson GA 04645(221) 156-5026\n",
      "Katelyn Cooper6059 Sollicitudin RoadBurlingame Colorado 26278(414) 876-0865\n",
      "Lacy Eaton1379 Nulla. Av.Asbury Park Montana 69679(932) 726-8645\n",
      "Driscoll LeachP.O. Box 120 2410 Odio AvenuePass Christian Delaware 03869(726) 710-9826\n",
      "Merritt WatsonP.O. Box 686 7014 Amet StreetCorona Oklahoma 55246(622) 594-1662\n",
      "Nehru HolmesP.O. Box 547 4764 Sed RoadGrand Rapids CT 87323(948) 600-8503\n",
      "Quamar Rivera427-5827 Ac St.Schaumburg Arkansas 84872(605) 900-7508\n",
      "Hiram Mullins754-6427 Nunc AveKennewick AL 41329(716) 977-5775\n",
      "Kim FletcherAp #345-3847 Metus RoadIndependence CO 30135(368) 239-8275\n",
      "Rigel KochP.O. Box 558 9561 Lacus. RoadLaughlin Hawaii 99602(725) 342-0650\n",
      "Jeanette SharpeAp #364-2006 Ipsum AvenueWilmington Ohio 91750(711) 993-5187\n",
      "Dahlia Lee1293 Tincidunt StreetAtwater Pennsylvania 76865(882) 399-5084\n",
      "Howard HaydenP.O. Box 847 8019 Facilisis StreetJoliet SC 73490(287) 755-9948\n",
      "Hyatt Kramer1011 Massa Av.Kent ID 63725(659) 551-3389\n",
      "Sonya RayAp #315-8441 Eleifend StreetFairbanks RI 96892(275) 730-6868\n",
      "Cara Whitehead4005 Praesent St.Torrance Wyoming 22767(725) 757-4047\n",
      "Blythe Carroll7709 Justo. AvePrinceton TX 77987(314) 882-1496\n",
      "Dale GriffinP.O. Box 854 8580 In AveRevere South Dakota 43841(639) 360-7590\n",
      "McKenzie HernandezAp #367-674 Mi StreetGreensboro VT 40684(168) 222-1592\n",
      "Haviva HolcombP.O. Box 642 3450 In RoadIsle of Palms New York 03828(896) 303-1164\n",
      "Ezra DuffyAp #782-7348 Dis Rd.Austin KY 50710(203) 982-6130\n",
      "Eleanor Jennings9631 Semper AveAstoria NJ 66309(906) 217-1470\n",
      "Remedios Hester487-5787 Mollis St.City of Industry Louisiana 67973(614) 514-1269\n",
      "Jasper Carney1195 Lobortis Rd.New Orleans New Hampshire 71983(763) 409-5446\n",
      "Vielka NielsenAp #517-7326 Elementum Rd.Fort Smith North Dakota 79637(836) 292-5324\n",
      "Wilma PaceAp #676-6532 Odio Rd.Darlington CO 06963(926) 709-3295\n",
      "Palmer Gay557-2026 Purus St.Watertown TN 07367(963) 356-9268\n",
      "Lyle SuttonAp #250-9843 Elementum St.South Gate Missouri 68999(736) 522-8584\n",
      "Ina BurtAp #130-1685 Ut StreetTyler KS 73510(410) 483-0352\n",
      "Cleo Best282-8351 Tincidunt AveSedalia Utah 53700(252) 204-1434\n",
      "Hu Park1429 Netus Rd.Reedsport NY 48247(874) 886-4174\n",
      "Liberty Walton343-6527 Purus. AvenueLogan NV 12657(581) 379-7573\n",
      "Aaron TrujilloAp #146-3132 Cras Rd.Kingsport NH 56618(983) 632-8597\n",
      "Elmo LopezAp #481-7473 Cum Rd.Yorba Linda South Carolina 28423(295) 983-3476\n",
      "Emerson EspinozaAp #247-5577 Tincidunt St.Corpus Christi WI 97020(873) 392-8802\n",
      "Daniel Malone2136 Adipiscing Av.Lima RI 93490(360) 669-3923\n",
      "Dante Bennett481-8762 Nulla StreetDearborn OR 62401(840) 987-9449\n",
      "Sade HigginsAp #287-3260 Ut St.Wilmington OR 05182(422) 517-6053\n",
      "Zorita Anderson1964 Facilisis AvenueBell Gardens Texas 87065(126) 940-2753\n",
      "Jordan Calderon430-985 Eleifend St.Duluth Washington 92611(427) 930-5255\n",
      "Ivor DelgadoAp #310-1678 Ut Av.Santa Barbara MT 88317(689) 721-5145\n",
      "Pascale PattonP.O. Box 399 4275 Amet StreetWest Allis NC 36734(676) 334-2174\n",
      "Nasim StrongAp #630-3889 Nulla. StreetWatervliet Oklahoma 70863(437) 994-5270\n",
      "Keaton UnderwoodAp #636-8082 Arcu AvenueThiensville Maryland 19587(564) 908-6970\n",
      "Keegan BlairAp #761-2515 Egestas. Rd.Manitowoc TN 07528(577) 333-6244\n",
      "Tamara Howe3415 Lobortis. AvenueRocky Mount WA 48580(655) 840-6139\n"
     ]
    }
   ],
   "source": [
    "li_list = soup.find_all(\"li\")\n",
    "\n",
    "for li in li_list :\n",
    "    #print(type(li))\n",
    "    print(li.get_text())"
   ]
  },
  {
   "cell_type": "code",
   "execution_count": 33,
   "id": "78451f61-a31e-4823-97cc-81d09a7922cf",
   "metadata": {},
   "outputs": [],
   "source": [
    "import requests\n",
    "from bs4 import BeautifulSoup\n",
    "\n",
    "response = requests.get(\"https://www.naver.com\")\n",
    "\n",
    "#print(response.text)\n",
    "\n",
    "html_doc =response.text\n",
    "\n",
    "soup = BeautifulSoup(html_doc, \"html.parser\")"
   ]
  },
  {
   "cell_type": "code",
   "execution_count": 46,
   "id": "5d59581f-0fc6-41ef-a063-f6a498efaee4",
   "metadata": {},
   "outputs": [
    {
     "data": {
      "text/plain": [
       "[<span class=\"blind\">쥬니어네이버</span>]"
      ]
     },
     "execution_count": 46,
     "metadata": {},
     "output_type": "execute_result"
    }
   ],
   "source": [
    "#soup.find_all('a')\n",
    "# soup.find_all('a', {\"href\" : \"#newsstand\"})\n",
    "\n",
    "# soup.find_all(\"button\", {\"type\" : \"button\"})  # {속성 : 값 } dict\n",
    "\n",
    "soup.select('#header > div.special_bg > div > div.service_area > a.link_jrnaver > span') # > 표시가 자식?,하위? 를 뜻함"
   ]
  },
  {
   "cell_type": "code",
   "execution_count": 102,
   "id": "0807f6d9-e796-4d8d-bcaa-86a6da032996",
   "metadata": {},
   "outputs": [
    {
     "name": "stdout",
     "output_type": "stream",
     "text": [
      "<class 'bs4.BeautifulSoup'>\n",
      "<class 'bs4.element.Tag'>\n",
      "<class 'bs4.element.ResultSet'>\n",
      "['https://www.chosun.com/economy/industry-company/2022/01/04/5RBS7KTE6JFWVNJX4BCKC4VKJ4/?utm_source=naver&utm_medium=referral&utm_campaign=naver-news']\n",
      "['https://www.seoul.co.kr/news/newsView.php?id=20220105500019&wlog_tag3=naver']\n",
      "['http://www.fnnews.com/news/202201040847465379']\n",
      "['http://yna.kr/AKR20220105005100075?did=1195m']\n"
     ]
    }
   ],
   "source": [
    "import requests\n",
    "from bs4 import BeautifulSoup\n",
    "\n",
    "response = requests.get(\"https://search.naver.com/search.naver?sm=tab_hty.top&where=nexearch&query=bts&oquery=%EB%B0%A9%ED%83%84%EC%86%8C%EB%85%84%EB%8B%A8&tqi=hORiWwp0YiRss4t8M4wssssstsN-052181\")\n",
    "\n",
    "#print(response.text)\n",
    "\n",
    "html_doc =response.text\n",
    "\n",
    "soup = BeautifulSoup(html_doc, \"html.parser\")\n",
    "\n",
    "print(type(soup))\n",
    "\n",
    "\n",
    "\n",
    "#x = soup.select(\"#main_pack > section.sc_new.sp_nnews._prs_nws_all > div > div.group_news > ul\")\n",
    "\n",
    "#print(type(x))\n",
    "\n",
    "tag = soup.select_one(\"#main_pack > section.sc_new.sp_nnews._prs_nws_all > div > div.group_news > ul\")\n",
    "\n",
    "print(type(tag))\n",
    "\n",
    "news_list = tag.select(\"li > div > div > a\")\n",
    "\n",
    "\n",
    "print(type(news_list))\n",
    "\n",
    "for n in news_list :\n",
    "    #print(n.get_text())\n",
    "    print(n.get_attribute_list('href'))\n",
    "\n",
    "\n"
   ]
  },
  {
   "cell_type": "code",
   "execution_count": 101,
   "id": "94650e2a-2870-4534-aa79-fef1d86ea79b",
   "metadata": {},
   "outputs": [
    {
     "name": "stdout",
     "output_type": "stream",
     "text": [
      "<class 'NoneType'>\n"
     ]
    }
   ],
   "source": [
    "news = tag.findNextSibling(\"li > div > div\")\n",
    "\n",
    "print(type(news))"
   ]
  },
  {
   "cell_type": "code",
   "execution_count": 137,
   "id": "8464230f-02d3-41ca-8b8c-f8d0bea0b192",
   "metadata": {},
   "outputs": [
    {
     "name": "stdout",
     "output_type": "stream",
     "text": [
      "<class 'str'>\n",
      "<p class=\"languages\">1972: C</p>\n",
      "<p class=\"languages\">1983: C++</p>\n",
      "<p class=\"languages\">1991: Python</p>\n",
      "<p class=\"languages\">1993: Ruby</p>\n",
      "<p class=\"languages\">1995: Java</p>\n",
      "<p class=\"languages\">1995: PHP</p>\n",
      "<p class=\"languages\">1995: JavaScript</p>\n"
     ]
    }
   ],
   "source": [
    "from bs4 import BeautifulSoup\n",
    "\n",
    "HTML_DOC = \"\"\"\n",
    "              <html>\n",
    "               <head>\n",
    "                   <title> Find Next Siblings </title>\n",
    "               </head>\n",
    "               <body>\n",
    "                    <p class = \"languages\">1957: FORTRAN</p>\n",
    "  \n",
    "                    <p class = \"languages\">1972: C</p>\n",
    "  \n",
    "                    <p class = \"languages\">1983: C++</p>\n",
    "  \n",
    "                    <p class = \"languages\">1991: Python</p>\n",
    "  \n",
    "                    <p class = \"languages\">1993: Ruby</p>\n",
    "  \n",
    "                    <p class = \"languages\">1995: Java</p>\n",
    "  \n",
    "                    <p class = \"languages\">1995: PHP</p>\n",
    "  \n",
    "                    <p class = \"languages\">1995: JavaScript</p>\n",
    "  \n",
    "               </body>\n",
    "             </html>\n",
    "            \"\"\"\n",
    "\n",
    "#print(type(HTML_DOC))\n",
    "\n",
    "def findNextSiblings(html):\n",
    "    soup = BeautifulSoup(html, \"html.parser\")\n",
    "    \n",
    "    element = soup.p\n",
    "    \n",
    "    nextSiblings = element.find_next_siblings(\"p\")\n",
    "    \n",
    "    \n",
    "    \n",
    "    for nextSibling in nextSiblings:\n",
    "        print(nextSibling)\n",
    "        \n",
    "    # print(element)\n",
    "    # print(nextSiblings[3]) \n",
    "        \n",
    "findNextSiblings(HTML_DOC)"
   ]
  },
  {
   "cell_type": "code",
   "execution_count": 168,
   "id": "79f090e2-49cc-4cbc-8000-222efffd1bb5",
   "metadata": {},
   "outputs": [
    {
     "name": "stdout",
     "output_type": "stream",
     "text": [
      "[None]\n",
      "[None]\n",
      "[None]\n"
     ]
    }
   ],
   "source": [
    "import requests\n",
    "from bs4 import BeautifulSoup\n",
    "\n",
    "\n",
    "response = requests.get(\"https://www.leagueoflegends.com/ko-kr/\")\n",
    "\n",
    "#print(response.text)\n",
    "\n",
    "html_doc = response.text\n",
    "\n",
    "soup = BeautifulSoup(html_doc, \"html.parser\")\n",
    "\n",
    "#print(soup)\n",
    "\n",
    "tag = soup.select_one(\"#bltca8e521b0154af73-section_0 > section\")\n",
    "\n",
    "#print(tag)\n",
    "\n",
    "x = tag.select(\"div > div > video\")\n",
    "\n",
    "#print(x)\n",
    "\n",
    "for n in x :\n",
    "    \n",
    "    #print(n.get_text())\n",
    "    print(n.get_attribute_list(\"src\"))"
   ]
  },
  {
   "cell_type": "code",
   "execution_count": null,
   "id": "8fa44fd2-05b9-4fb2-8920-0f2c56ba2a4a",
   "metadata": {},
   "outputs": [],
   "source": []
  },
  {
   "cell_type": "code",
   "execution_count": null,
   "id": "3ecf83b3-9e15-4a7e-880c-d6a573df7c23",
   "metadata": {},
   "outputs": [],
   "source": []
  },
  {
   "cell_type": "code",
   "execution_count": null,
   "id": "a9518b49-221f-4a8a-8fff-4e17696d92fe",
   "metadata": {},
   "outputs": [],
   "source": []
  },
  {
   "cell_type": "code",
   "execution_count": null,
   "id": "ed7e2c24-66fb-4f66-b810-b40d675aadfb",
   "metadata": {},
   "outputs": [],
   "source": []
  },
  {
   "cell_type": "code",
   "execution_count": null,
   "id": "3168968f-0eb6-401c-9351-52fbf1490b59",
   "metadata": {},
   "outputs": [],
   "source": []
  },
  {
   "cell_type": "code",
   "execution_count": null,
   "id": "b353fe9b-0f58-477d-971b-cdfb4128e0a1",
   "metadata": {},
   "outputs": [],
   "source": []
  },
  {
   "cell_type": "code",
   "execution_count": null,
   "id": "7e27d9d2-8b5c-4773-8b4a-03cbe6b9feeb",
   "metadata": {},
   "outputs": [],
   "source": []
  }
 ],
 "metadata": {
  "kernelspec": {
   "display_name": "Python 3 (ipykernel)",
   "language": "python",
   "name": "python3"
  },
  "language_info": {
   "codemirror_mode": {
    "name": "ipython",
    "version": 3
   },
   "file_extension": ".py",
   "mimetype": "text/x-python",
   "name": "python",
   "nbconvert_exporter": "python",
   "pygments_lexer": "ipython3",
   "version": "3.9.7"
  }
 },
 "nbformat": 4,
 "nbformat_minor": 5
}
