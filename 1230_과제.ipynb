{
 "cells": [
  {
   "cell_type": "code",
   "execution_count": 40,
   "id": "45e07158-03ad-47d4-926b-b30d725ff254",
   "metadata": {},
   "outputs": [],
   "source": [
    "class Student() :\n",
    "    \n",
    "    def __init__(self, name, kor, eng, math):\n",
    "        self.name = name\n",
    "        self.kor = kor\n",
    "        self.eng = eng\n",
    "        self.math = math\n",
    "        \n",
    "    def get_name(self) :\n",
    "        return self.name\n",
    "    \n",
    "    def get_kor(self) :\n",
    "        return self.kor\n",
    "    \n",
    "    def get_eng(self) :\n",
    "        return self.eng\n",
    "    \n",
    "    def get_math(self) :\n",
    "        return self.math  \n",
    "    \n",
    "    def get_sum(self) :\n",
    "        x = self.kor + self.eng + self.math\n",
    "        return x"
   ]
  },
  {
   "cell_type": "code",
   "execution_count": 49,
   "id": "fb563e19-917c-4962-8d6d-5a54fc4147ea",
   "metadata": {},
   "outputs": [],
   "source": [
    "s1 = Student('kang', 70, 85, 60)\n",
    "s2 = Student('kim', 60, 80, 70)\n",
    "s3 = Student('jun', 80, 70, 60)\n",
    "s4 = Student('hun', 65, 75, 68)\n",
    "s5 = Student('park', 77, 88, 50)\n",
    "\n",
    "\n",
    "#아래식은 방법2에서 사용\n",
    "\n",
    "#a = s1.get_sum()\n",
    "#b = s2.get_sum()\n",
    "#c = s3.get_sum()\n",
    "#d = s4.get_sum()\n",
    "#e = s5.get_sum()"
   ]
  },
  {
   "cell_type": "markdown",
   "id": "5a29a232-3819-4454-9521-444737bae414",
   "metadata": {},
   "source": [
    "### 방법 1"
   ]
  },
  {
   "cell_type": "code",
   "execution_count": 50,
   "id": "8697a661-1e2a-4a12-aac5-037b02703b36",
   "metadata": {},
   "outputs": [
    {
     "name": "stdout",
     "output_type": "stream",
     "text": [
      "1058\n"
     ]
    }
   ],
   "source": [
    "score = [s1, s2, s3, s4, s5]\n",
    "total = []\n",
    "\n",
    "for n in score :\n",
    "    total.append(n.get_sum())\n",
    "    \n",
    "print(sum(total))\n",
    "    "
   ]
  },
  {
   "cell_type": "markdown",
   "id": "2194381e-8965-418e-b7b4-2411b394df61",
   "metadata": {},
   "source": [
    "### 방법 2"
   ]
  },
  {
   "cell_type": "code",
   "execution_count": 51,
   "id": "2ea1ded4-cf01-430e-b7ac-e65b1895b778",
   "metadata": {},
   "outputs": [
    {
     "name": "stdout",
     "output_type": "stream",
     "text": [
      "1058\n",
      "211.6\n"
     ]
    }
   ],
   "source": [
    "score = [a, b, c, d, e]\n",
    "x = [ ]\n",
    "\n",
    "for n in score:\n",
    "    x.append(n)\n",
    "\n",
    "total = sum(x)\n",
    "avg = total / 5\n",
    "    \n",
    "print(total)\n",
    "print(avg)"
   ]
  }
 ],
 "metadata": {
  "kernelspec": {
   "display_name": "Python 3 (ipykernel)",
   "language": "python",
   "name": "python3"
  },
  "language_info": {
   "codemirror_mode": {
    "name": "ipython",
    "version": 3
   },
   "file_extension": ".py",
   "mimetype": "text/x-python",
   "name": "python",
   "nbconvert_exporter": "python",
   "pygments_lexer": "ipython3",
   "version": "3.9.7"
  }
 },
 "nbformat": 4,
 "nbformat_minor": 5
}
