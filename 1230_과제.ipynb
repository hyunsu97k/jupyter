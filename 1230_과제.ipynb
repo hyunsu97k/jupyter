{
 "cells": [
  {
   "cell_type": "code",
   "execution_count": 13,
   "id": "45e07158-03ad-47d4-926b-b30d725ff254",
   "metadata": {},
   "outputs": [],
   "source": [
    "class Student() :\n",
    "    \n",
    "    def __init__(self, name, kor, eng, math):\n",
    "        self.name = name\n",
    "        self.kor = kor\n",
    "        self.eng = eng\n",
    "        self.math = math\n",
    "        \n",
    "    def get_name(self) :\n",
    "        return self.name\n",
    "    \n",
    "    def get_kor(self) :\n",
    "        return self.kor\n",
    "    \n",
    "    def get_eng(self) :\n",
    "        return self.eng\n",
    "    \n",
    "    def get_math(self) :\n",
    "        return self.math  \n",
    "    \n",
    "    def get_sum(self) :\n",
    "        x = self.kor + self.eng + self.math\n",
    "        return x"
   ]
  },
  {
   "cell_type": "code",
   "execution_count": 14,
   "id": "fb563e19-917c-4962-8d6d-5a54fc4147ea",
   "metadata": {},
   "outputs": [],
   "source": [
    "s1 = Student('kang', 70, 85, 60)\n",
    "s2 = Student('kim', 60, 80, 70)\n",
    "s3 = Student('jun', 80, 70, 60)\n",
    "s4 = Student('hun', 65, 75, 68)\n",
    "s5 = Student('park', 77, 88, 50)\n",
    "\n",
    "\n",
    "a = s1.get_sum()\n",
    "b = s2.get_sum()\n",
    "c = s3.get_sum()\n",
    "d = s4.get_sum()\n",
    "e = s5.get_sum()"
   ]
  },
  {
   "cell_type": "code",
   "execution_count": null,
   "id": "3a241093-a4e7-4fe4-848e-0b038489582f",
   "metadata": {},
   "outputs": [],
   "source": []
  },
  {
   "cell_type": "code",
   "execution_count": 24,
   "id": "2ea1ded4-cf01-430e-b7ac-e65b1895b778",
   "metadata": {},
   "outputs": [
    {
     "name": "stdout",
     "output_type": "stream",
     "text": [
      "1058\n",
      "211.6\n"
     ]
    }
   ],
   "source": [
    "score = [a, b, c, d, e]\n",
    "x = [ ]\n",
    "\n",
    "for n in score:\n",
    "    x.append(n)\n",
    "\n",
    "total = sum(x)\n",
    "print(total)\n",
    "\n",
    "\n",
    "avg = total / 5\n",
    "print(avg)"
   ]
  },
  {
   "cell_type": "code",
   "execution_count": null,
   "id": "14a1c134-4e88-48f6-b0ae-1a36cc1073d3",
   "metadata": {},
   "outputs": [],
   "source": []
  },
  {
   "cell_type": "code",
   "execution_count": 16,
   "id": "a06f058e-e829-4b54-bf86-4a7df800a2c6",
   "metadata": {},
   "outputs": [
    {
     "name": "stdout",
     "output_type": "stream",
     "text": [
      "1058\n"
     ]
    }
   ],
   "source": [
    "score = [s1, s2, s3, s4, s5]\n",
    "x = []\n",
    "\n",
    "for n in score :\n",
    "    x.append(n.get_sum())\n",
    "    \n",
    "total = sum(x)\n",
    "\n",
    "print(total)\n",
    "    "
   ]
  },
  {
   "cell_type": "code",
   "execution_count": null,
   "id": "38711b51-d60e-40f6-a342-0b77e3aac08b",
   "metadata": {},
   "outputs": [],
   "source": []
  },
  {
   "cell_type": "code",
   "execution_count": 21,
   "id": "be8bfe45-1f66-49a2-8f50-571af3a0b699",
   "metadata": {},
   "outputs": [
    {
     "name": "stdout",
     "output_type": "stream",
     "text": [
      "[215, 210, 210, 208, 215]\n",
      "1058\n",
      "211.6\n"
     ]
    }
   ],
   "source": [
    "score = [s1, s2, s3, s4, s5]\n",
    "x = []\n",
    "\n",
    "for n in score :\n",
    "    x.append(n.get_sum())\n",
    "\n",
    "total = sum(x)    \n",
    "avg = total / 5\n",
    "\n",
    "print(x)\n",
    "print(total)\n",
    "print(avg)"
   ]
  },
  {
   "cell_type": "code",
   "execution_count": null,
   "id": "37a44967-8a98-4018-ab67-a3b9605c2588",
   "metadata": {},
   "outputs": [],
   "source": []
  },
  {
   "cell_type": "code",
   "execution_count": null,
   "id": "7d0863de-4047-4ab6-ab90-3472511a1360",
   "metadata": {},
   "outputs": [],
   "source": []
  },
  {
   "cell_type": "code",
   "execution_count": null,
   "id": "e5fd7925-423e-4cc0-bb1e-1199eb56131e",
   "metadata": {},
   "outputs": [],
   "source": []
  },
  {
   "cell_type": "code",
   "execution_count": null,
   "id": "a46107ae-bfcb-474a-8e42-bd515f922b1a",
   "metadata": {},
   "outputs": [],
   "source": []
  },
  {
   "cell_type": "code",
   "execution_count": null,
   "id": "ff049685-48b9-4766-80f6-b7d1fc6bba45",
   "metadata": {},
   "outputs": [],
   "source": []
  },
  {
   "cell_type": "code",
   "execution_count": null,
   "id": "86c5a416-e8e7-4ca7-88ca-d01f003befae",
   "metadata": {},
   "outputs": [],
   "source": []
  },
  {
   "cell_type": "code",
   "execution_count": null,
   "id": "05e1080c-3bac-4db6-95d9-e88b9efb9488",
   "metadata": {},
   "outputs": [],
   "source": []
  },
  {
   "cell_type": "code",
   "execution_count": null,
   "id": "5bad505f-2fff-42e6-ab6b-cf0067d94b62",
   "metadata": {},
   "outputs": [],
   "source": []
  },
  {
   "cell_type": "code",
   "execution_count": null,
   "id": "ab528ffe-20a8-4620-a2ec-a7a4109a845a",
   "metadata": {},
   "outputs": [],
   "source": []
  }
 ],
 "metadata": {
  "kernelspec": {
   "display_name": "Python 3 (ipykernel)",
   "language": "python",
   "name": "python3"
  },
  "language_info": {
   "codemirror_mode": {
    "name": "ipython",
    "version": 3
   },
   "file_extension": ".py",
   "mimetype": "text/x-python",
   "name": "python",
   "nbconvert_exporter": "python",
   "pygments_lexer": "ipython3",
   "version": "3.9.7"
  }
 },
 "nbformat": 4,
 "nbformat_minor": 5
}
