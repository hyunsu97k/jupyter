{
 "cells": [
  {
   "cell_type": "markdown",
   "id": "e4d7cac1-d981-45a0-b247-b232f812b1dd",
   "metadata": {},
   "source": [
    "# Regex"
   ]
  },
  {
   "cell_type": "code",
   "execution_count": 9,
   "id": "1df2d505-8b32-4bcd-a183-e9b005d77843",
   "metadata": {},
   "outputs": [
    {
     "name": "stdout",
     "output_type": "stream",
     "text": [
      "<class 're.Pattern'>\n"
     ]
    }
   ],
   "source": [
    "import re\n",
    "\n",
    "p = re.compile('[abc]')\n",
    "\n",
    "print(type(p))"
   ]
  },
  {
   "cell_type": "code",
   "execution_count": 51,
   "id": "32efdb77-3472-49d7-9ec3-9180fd82a455",
   "metadata": {},
   "outputs": [
    {
     "name": "stdout",
     "output_type": "stream",
     "text": [
      "['22', '33', '44', '21']\n",
      "{'Janice': '22', 'Theon': '33', 'Gabriel': '44', 'Joey': '21'}\n"
     ]
    }
   ],
   "source": [
    "import re\n",
    "\n",
    "nameage = '''\n",
    "Janice is 22 and Theon is 33\n",
    "Gabriel is 44 and Joey is 21\n",
    "'''\n",
    "\n",
    "p1 = re.compile('\\d{1,3}')\n",
    "print(p1.findall(nameage))\n",
    "\n",
    "p2 = re.compile('[A-Z][a-z]+')\n",
    "\n",
    "ages = p1.findall(nameage)\n",
    "names = p2.findall(nameage)\n",
    "\n",
    "\n",
    "#print(type(names))\n",
    "myDict={}\n",
    "x = 0\n",
    "\n",
    "for n in names :\n",
    "    myDict[n] = ages[x]\n",
    "    x = x + 1\n",
    "    \n",
    "print(myDict)\n",
    "\n"
   ]
  },
  {
   "cell_type": "code",
   "execution_count": null,
   "id": "b5341fd8-e14c-4b1a-ab8f-b1051b80f6c9",
   "metadata": {},
   "outputs": [],
   "source": []
  },
  {
   "cell_type": "code",
   "execution_count": null,
   "id": "3133f553-a2cf-4cab-b59b-f985eb82130c",
   "metadata": {},
   "outputs": [],
   "source": []
  }
 ],
 "metadata": {
  "kernelspec": {
   "display_name": "Python 3 (ipykernel)",
   "language": "python",
   "name": "python3"
  },
  "language_info": {
   "codemirror_mode": {
    "name": "ipython",
    "version": 3
   },
   "file_extension": ".py",
   "mimetype": "text/x-python",
   "name": "python",
   "nbconvert_exporter": "python",
   "pygments_lexer": "ipython3",
   "version": "3.9.7"
  }
 },
 "nbformat": 4,
 "nbformat_minor": 5
}
